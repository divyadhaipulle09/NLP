{
 "cells": [
  {
   "cell_type": "code",
   "execution_count": 144,
   "metadata": {
    "colab": {
     "base_uri": "https://localhost:8080/"
    },
    "executionInfo": {
     "elapsed": 4556,
     "status": "ok",
     "timestamp": 1668273562473,
     "user": {
      "displayName": "Naveen Kumar",
      "userId": "15460283466251187880"
     },
     "user_tz": -330
    },
    "id": "i-A4Bj8W13Qs",
    "outputId": "676a4bd5-0604-43bb-c958-089f1d187482"
   },
   "outputs": [
    {
     "name": "stdout",
     "output_type": "stream",
     "text": [
      "Drive already mounted at /content/drive; to attempt to forcibly remount, call drive.mount(\"/content/drive\", force_remount=True).\n"
     ]
    }
   ],
   "source": [
    "from google.colab import drive\n",
    "drive.mount('/content/drive')"
   ]
  },
  {
   "cell_type": "code",
   "execution_count": 147,
   "metadata": {
    "executionInfo": {
     "elapsed": 10,
     "status": "ok",
     "timestamp": 1668273562475,
     "user": {
      "displayName": "Naveen Kumar",
      "userId": "15460283466251187880"
     },
     "user_tz": -330
    },
    "id": "xXbzEt8P2qYq"
   },
   "outputs": [],
   "source": [
    "import warnings\n",
    "warnings.filterwarnings('ignore')\n",
    "\n",
    "from tensorflow.keras.datasets import imdb\n",
    "import numpy as np\n",
    "import pandas as pd\n",
    "import os\n",
    "from tensorflow.keras.preprocessing.sequence import pad_sequences\n",
    "from random import randint\n",
    "from zipfile import ZipFile\n",
    "from sklearn.model_selection import train_test_split\n",
    "\n",
    "import nltk\n",
    "from nltk.corpus import stopwords \n",
    "\n",
    "import seaborn as sns\n",
    "import matplotlib.pyplot as plt\n",
    "%matplotlib inline\n",
    "\n",
    "import tensorflow.keras.backend as K\n",
    "import tensorflow.keras.preprocessing as preprocessing\n",
    "from tensorflow.keras.preprocessing.text import Tokenizer\n",
    "from tensorflow.keras.datasets import imdb\n",
    "from tensorflow.keras.models import Sequential, Model\n",
    "from tensorflow.keras.layers import Dropout, Flatten, Dense, Embedding, LSTM\n",
    "from tensorflow.keras.layers import Input, Bidirectional\n",
    "from tensorflow.keras.constraints import max_norm, unit_norm\n",
    "from tensorflow.keras.preprocessing.sequence import pad_sequences"
   ]
  },
  {
   "cell_type": "code",
   "execution_count": 148,
   "metadata": {
    "colab": {
     "base_uri": "https://localhost:8080/"
    },
    "executionInfo": {
     "elapsed": 10,
     "status": "ok",
     "timestamp": 1668273562476,
     "user": {
      "displayName": "Naveen Kumar",
      "userId": "15460283466251187880"
     },
     "user_tz": -330
    },
    "id": "FIffW3QMoLZh",
    "outputId": "7e7e75d0-f5d8-461f-a320-fefeb3cd6576"
   },
   "outputs": [
    {
     "name": "stderr",
     "output_type": "stream",
     "text": [
      "[nltk_data] Downloading package stopwords to /root/nltk_data...\n",
      "[nltk_data]   Package stopwords is already up-to-date!\n"
     ]
    },
    {
     "data": {
      "text/plain": [
       "True"
      ]
     },
     "execution_count": 148,
     "metadata": {},
     "output_type": "execute_result"
    }
   ],
   "source": [
    "nltk.download('stopwords')"
   ]
  },
  {
   "cell_type": "markdown",
   "metadata": {
    "id": "zVHQ3iUx3pzr"
   },
   "source": [
    "## **1. Import and analyse the data set**"
   ]
  },
  {
   "cell_type": "code",
   "execution_count": 149,
   "metadata": {
    "colab": {
     "base_uri": "https://localhost:8080/"
    },
    "executionInfo": {
     "elapsed": 4959,
     "status": "ok",
     "timestamp": 1668273567428,
     "user": {
      "displayName": "Naveen Kumar",
      "userId": "15460283466251187880"
     },
     "user_tz": -330
    },
    "id": "iEjrjl-m3ryG",
    "outputId": "3b18b1db-5f72-4eae-b8d3-79accf3550e8"
   },
   "outputs": [
    {
     "name": "stdout",
     "output_type": "stream",
     "text": [
      "CPU times: user 4.6 s, sys: 539 ms, total: 5.14 s\n",
      "Wall time: 5.25 s\n"
     ]
    }
   ],
   "source": [
    "%%time\n",
    "\n",
    "# Import and analyse the data set\n",
    "# Set the vocalbulary size and the number of words from each review\n",
    "# # Setting the number of words as 100 to train the network better\n",
    "vocab_size = 10000\n",
    "maxlen = 100\n",
    "\n",
    "# vocab_size is no.of words to consider from the dataset, ordering based on frequency.\n",
    "(X_train, y_train), (X_test, y_test) = imdb.load_data(num_words = vocab_size)"
   ]
  },
  {
   "cell_type": "code",
   "execution_count": 150,
   "metadata": {
    "colab": {
     "base_uri": "https://localhost:8080/"
    },
    "executionInfo": {
     "elapsed": 16,
     "status": "ok",
     "timestamp": 1668273567429,
     "user": {
      "displayName": "Naveen Kumar",
      "userId": "15460283466251187880"
     },
     "user_tz": -330
    },
    "id": "mXjZMaLG479v",
    "outputId": "f74c487d-a93b-47e8-90c7-84030dca9e48"
   },
   "outputs": [
    {
     "name": "stdout",
     "output_type": "stream",
     "text": [
      "Shape of X_train: (25000,)\n",
      "Shape of y_train: (25000,)\n",
      "Shape of X_test: (25000,)\n",
      "Shape of y_test: (25000,)\n"
     ]
    }
   ],
   "source": [
    "# Print the shape of train and test data\n",
    "print(\"Shape of X_train:\",X_train.shape)\n",
    "print(\"Shape of y_train:\",y_train.shape)\n",
    "print(\"Shape of X_test:\",X_test.shape)\n",
    "print(\"Shape of y_test:\",y_test.shape)"
   ]
  },
  {
   "cell_type": "code",
   "execution_count": 151,
   "metadata": {
    "colab": {
     "base_uri": "https://localhost:8080/"
    },
    "executionInfo": {
     "elapsed": 15,
     "status": "ok",
     "timestamp": 1668273567429,
     "user": {
      "displayName": "Naveen Kumar",
      "userId": "15460283466251187880"
     },
     "user_tz": -330
    },
    "id": "vuuh6n9N42nN",
    "outputId": "7df396ab-807d-481e-fe4c-05ca3e2441e6"
   },
   "outputs": [
    {
     "name": "stdout",
     "output_type": "stream",
     "text": [
      "Labels:  [0 1]\n"
     ]
    }
   ],
   "source": [
    "# print unique Labels in y_train\n",
    "print(\"Labels: \", np.unique(y_train))"
   ]
  },
  {
   "cell_type": "code",
   "execution_count": 152,
   "metadata": {
    "colab": {
     "base_uri": "https://localhost:8080/"
    },
    "executionInfo": {
     "elapsed": 11,
     "status": "ok",
     "timestamp": 1668273567430,
     "user": {
      "displayName": "Naveen Kumar",
      "userId": "15460283466251187880"
     },
     "user_tz": -330
    },
    "id": "OriN09vh5byo",
    "outputId": "0a2556c7-fead-4491-94c3-9d3ac2744931"
   },
   "outputs": [
    {
     "name": "stdout",
     "output_type": "stream",
     "text": [
      "Max length of sequence in X_train:  2494\n",
      "Max length of sequence in X_test:  2315\n"
     ]
    }
   ],
   "source": [
    "print(\"Max length of sequence in X_train: \", max(len(x) for x in X_train))\n",
    "print(\"Max length of sequence in X_test: \", max(len(x) for x in X_test))"
   ]
  },
  {
   "cell_type": "markdown",
   "metadata": {
    "id": "nccyMCxr5nVP"
   },
   "source": [
    "## **2. Perform relevant sequence adding on the data.**"
   ]
  },
  {
   "cell_type": "code",
   "execution_count": 153,
   "metadata": {
    "colab": {
     "base_uri": "https://localhost:8080/"
    },
    "executionInfo": {
     "elapsed": 8,
     "status": "ok",
     "timestamp": 1668273567430,
     "user": {
      "displayName": "Naveen Kumar",
      "userId": "15460283466251187880"
     },
     "user_tz": -330
    },
    "id": "Y5bAQCEG5o90",
    "outputId": "cdb72feb-7b97-4be8-8e1c-bd7d0edc3d5f"
   },
   "outputs": [
    {
     "data": {
      "text/plain": [
       "238.71364"
      ]
     },
     "execution_count": 153,
     "metadata": {},
     "output_type": "execute_result"
    }
   ],
   "source": [
    "# Mean of X_train data\n",
    "np.mean([len(i) for i in X_train])"
   ]
  },
  {
   "cell_type": "code",
   "execution_count": 154,
   "metadata": {
    "executionInfo": {
     "elapsed": 891,
     "status": "ok",
     "timestamp": 1668273568316,
     "user": {
      "displayName": "Naveen Kumar",
      "userId": "15460283466251187880"
     },
     "user_tz": -330
    },
    "id": "X9OIs9yj6AJG"
   },
   "outputs": [],
   "source": [
    "# Perform relevant sequence adding on the data.\n",
    "# Make all sequences of the same length\n",
    "#padding -  200 length\n",
    "X_train = pad_sequences(X_train, maxlen=maxlen)\n",
    "X_test =  pad_sequences(X_test, maxlen=maxlen)"
   ]
  },
  {
   "cell_type": "markdown",
   "metadata": {
    "id": "xky8chLQ6XzE"
   },
   "source": [
    "## **3. Perform following data analysis**"
   ]
  },
  {
   "cell_type": "markdown",
   "metadata": {
    "id": "0IAAdAep6c3N"
   },
   "source": [
    "### **Print shape of features and labels**"
   ]
  },
  {
   "cell_type": "code",
   "execution_count": 155,
   "metadata": {
    "colab": {
     "base_uri": "https://localhost:8080/"
    },
    "executionInfo": {
     "elapsed": 23,
     "status": "ok",
     "timestamp": 1668273568316,
     "user": {
      "displayName": "Naveen Kumar",
      "userId": "15460283466251187880"
     },
     "user_tz": -330
    },
    "id": "ZMAElVv44waX",
    "outputId": "5ff5b8f5-f5c4-46ef-9811-148d5eb15cbc"
   },
   "outputs": [
    {
     "name": "stdout",
     "output_type": "stream",
     "text": [
      "Shape of features:\n",
      "X_train after padding contains 25000 rows and 100 columns.\n",
      "X_test after padding contains 25000 rows and 100 columns.\n",
      "\n",
      "\n",
      "Shape of labels:\n",
      "y_train contains 25000 rows.\n",
      "y_test contains 25000 rows.\n"
     ]
    }
   ],
   "source": [
    "# Print shape of features and labels\n",
    "print(\"Shape of features:\")\n",
    "print ('X_train after padding contains', X_train.shape[0], 'rows and', X_train.shape[1], 'columns.')\n",
    "print ('X_test after padding contains', X_test.shape[0], 'rows and', X_test.shape[1], 'columns.')\n",
    "print(\"\\n\")\n",
    "print(\"Shape of labels:\")\n",
    "print ('y_train contains', y_train.shape[0], 'rows.')\n",
    "print ('y_test contains', y_test.shape[0], 'rows.')"
   ]
  },
  {
   "cell_type": "code",
   "execution_count": 156,
   "metadata": {
    "colab": {
     "base_uri": "https://localhost:8080/"
    },
    "executionInfo": {
     "elapsed": 20,
     "status": "ok",
     "timestamp": 1668273568317,
     "user": {
      "displayName": "Naveen Kumar",
      "userId": "15460283466251187880"
     },
     "user_tz": -330
    },
    "id": "NSUMNozkaATr",
    "outputId": "0ac261e8-9b1c-4349-b82f-6d93b7a812d3"
   },
   "outputs": [
    {
     "name": "stdout",
     "output_type": "stream",
     "text": [
      "Maximum value of a word index: 9999\n",
      "Maximum length num words of review in train: 100\n"
     ]
    }
   ],
   "source": [
    "# train_len = [len(sequence) for sequence in X_train]\n",
    "# test_len = [len(sequence) for sequence in X_test]\n",
    "\n",
    "print('Maximum value of a word index:', max([max(sequence) for sequence in X_train]))\n",
    "print('Maximum length num words of review in train:', max([len(sequence) for sequence in X_train]))"
   ]
  },
  {
   "cell_type": "code",
   "execution_count": 157,
   "metadata": {
    "executionInfo": {
     "elapsed": 15,
     "status": "ok",
     "timestamp": 1668273568317,
     "user": {
      "displayName": "Naveen Kumar",
      "userId": "15460283466251187880"
     },
     "user_tz": -330
    },
    "id": "vnBOl6Uvaf8b"
   },
   "outputs": [],
   "source": [
    "# Convert the label values to be Positive/Negative rather than 0/1\n",
    "unique, counts = np.unique(np.concatenate((y_train, y_test)), return_counts=True)\n",
    "sentiments = {1: 'Positive', 0: 'Negative'}"
   ]
  },
  {
   "cell_type": "markdown",
   "metadata": {
    "id": "MOBI1_mY6hdt"
   },
   "source": [
    "### **Print value of any one feature and it's label**"
   ]
  },
  {
   "cell_type": "code",
   "execution_count": 158,
   "metadata": {
    "colab": {
     "base_uri": "https://localhost:8080/"
    },
    "executionInfo": {
     "elapsed": 16,
     "status": "ok",
     "timestamp": 1668273568318,
     "user": {
      "displayName": "Naveen Kumar",
      "userId": "15460283466251187880"
     },
     "user_tz": -330
    },
    "id": "437LA7tq6ltW",
    "outputId": "84163bb6-ef9b-454c-dce5-2b7515f266b6"
   },
   "outputs": [
    {
     "name": "stdout",
     "output_type": "stream",
     "text": [
      "1st reveiw in dataset 100\n",
      "100th reveiw in dataset 100\n"
     ]
    }
   ],
   "source": [
    "# Printing the number of words in random two review as a sample - Note : padded to 200\n",
    "\n",
    "print(\"1st reveiw in dataset\", X_train[0].shape[0])\n",
    "print(\"100th reveiw in dataset\", X_train[100].shape[0])"
   ]
  },
  {
   "cell_type": "code",
   "execution_count": 159,
   "metadata": {
    "colab": {
     "base_uri": "https://localhost:8080/"
    },
    "executionInfo": {
     "elapsed": 12,
     "status": "ok",
     "timestamp": 1668273568318,
     "user": {
      "displayName": "Naveen Kumar",
      "userId": "15460283466251187880"
     },
     "user_tz": -330
    },
    "id": "aNOkgTNa6N0V",
    "outputId": "aa9efaad-8d77-4798-f4c8-e7cfe825edce"
   },
   "outputs": [
    {
     "name": "stdout",
     "output_type": "stream",
     "text": [
      "Value: 13721\n",
      "Value of the feature: [ 688    8    4  192   15   12   80   30 8326   34    2  108   13  586\n",
      "  683 3685  808    6   78   22   21   94   24   66  441  345   42   33\n",
      "  222   12  218    8  259  120    4  559    7 1086 3685  808  218    6\n",
      "  441   22   88  164   44   12    9  204  285   43  166   25  140   51\n",
      "  774   13  110   14  159 3685  808 7247  125    5  497    8 2208   11\n",
      "   23  285   39    2 1026    8  344  584   63 2886  195  199   28    2\n",
      " 9213   11   12 3685  808  218    6   78   20   21   12 1015    8 5475\n",
      "   83 7649]\n"
     ]
    }
   ],
   "source": [
    "# Print value of any one feature and it's label\n",
    "loc = randint(0,25000)\n",
    "print('Value:', loc)\n",
    "\n",
    "# Print the value of feature and label at loc location \n",
    "print(\"Value of the feature:\" ,X_train[loc])"
   ]
  },
  {
   "cell_type": "code",
   "execution_count": 160,
   "metadata": {
    "colab": {
     "base_uri": "https://localhost:8080/"
    },
    "executionInfo": {
     "elapsed": 9,
     "status": "ok",
     "timestamp": 1668273568318,
     "user": {
      "displayName": "Naveen Kumar",
      "userId": "15460283466251187880"
     },
     "user_tz": -330
    },
    "id": "otDdowxKan7a",
    "outputId": "fb9573da-4568-483f-c820-ac3f243864b4"
   },
   "outputs": [
    {
     "name": "stdout",
     "output_type": "stream",
     "text": [
      "Value of the label: Negative\n"
     ]
    }
   ],
   "source": [
    "print(\"Value of the label:\", sentiments.get(y_train[loc]))"
   ]
  },
  {
   "cell_type": "markdown",
   "metadata": {
    "id": "yx6gwfH2a3uy"
   },
   "source": [
    "## **4. Decode the feature value to get original sentence**"
   ]
  },
  {
   "cell_type": "code",
   "execution_count": 161,
   "metadata": {
    "executionInfo": {
     "elapsed": 5,
     "status": "ok",
     "timestamp": 1668273568318,
     "user": {
      "displayName": "Naveen Kumar",
      "userId": "15460283466251187880"
     },
     "user_tz": -330
    },
    "id": "1sRPuMnOa7Eq"
   },
   "outputs": [],
   "source": [
    "# Decode the feature value to get original sentence\n",
    "def decode_feature(sequence):\n",
    "    id_to_word = dict([(value, key) for (key, value) in imdb.get_word_index().items()])\n",
    "    decoded_feature = ' '.join([id_to_word.get(idx-3,'?') for idx in sequence])\n",
    "    print(decoded_feature)"
   ]
  },
  {
   "cell_type": "code",
   "execution_count": 162,
   "metadata": {
    "colab": {
     "base_uri": "https://localhost:8080/"
    },
    "executionInfo": {
     "elapsed": 379,
     "status": "ok",
     "timestamp": 1668273568691,
     "user": {
      "displayName": "Naveen Kumar",
      "userId": "15460283466251187880"
     },
     "user_tz": -330
    },
    "id": "AZ5kkJOOa_yD",
    "outputId": "9d6c9114-ec60-4828-fea1-6b11e3f944a7"
   },
   "outputs": [
    {
     "name": "stdout",
     "output_type": "stream",
     "text": [
      "due to the fact that it will be overshadowed by ? films i wouldn't call blank check a bad film but its not really entertaining either or at least it isn't to anyone over the age of 6 blank check isn't a entertaining film because nothing about it is original everything just makes you go what haven't i seen this before blank check rips off and tries to cash in on everything from ? rich to home alone which strangely enough both have ? culkin in it blank check isn't a bad movie but it deserves to fade into obscurity\n",
      "\n",
      "\n",
      "The sentiment for the above review is: Negative\n",
      "\n",
      "\n"
     ]
    }
   ],
   "source": [
    "decode_feature(X_train[loc])\n",
    "print('\\n')\n",
    "print('The sentiment for the above review is:', sentiments.get(y_train[loc]))\n",
    "print('\\n')"
   ]
  },
  {
   "cell_type": "markdown",
   "metadata": {
    "id": "_QflaXEedD9n"
   },
   "source": [
    "## **5. Design, train, tune and test a sequential model.**"
   ]
  },
  {
   "cell_type": "code",
   "execution_count": 163,
   "metadata": {
    "executionInfo": {
     "elapsed": 14,
     "status": "ok",
     "timestamp": 1668273568692,
     "user": {
      "displayName": "Naveen Kumar",
      "userId": "15460283466251187880"
     },
     "user_tz": -330
    },
    "id": "l3F5BjxvbpSc"
   },
   "outputs": [],
   "source": [
    "def base_model():\n",
    "  # Build the network\n",
    "  model = Sequential()\n",
    "  model.add(Embedding(input_dim = vocab_size, output_dim = 100, input_length = maxlen))\n",
    "  model.add(Flatten())\n",
    "  model.add(Dense(1, activation = 'sigmoid'))\n",
    "  model.compile(optimizer = 'adam', loss = 'binary_crossentropy', metrics = ['accuracy'])\n",
    "  return model"
   ]
  },
  {
   "cell_type": "code",
   "execution_count": 164,
   "metadata": {
    "executionInfo": {
     "elapsed": 13,
     "status": "ok",
     "timestamp": 1668273568692,
     "user": {
      "displayName": "Naveen Kumar",
      "userId": "15460283466251187880"
     },
     "user_tz": -330
    },
    "id": "aVqUUuPBhGBA"
   },
   "outputs": [],
   "source": [
    "def lstm_model():\n",
    "  #Lets try with an LSTM model.\n",
    "  lstm = Sequential()\n",
    "  lstm.add(Embedding(input_dim = vocab_size, output_dim = 100, input_length = maxlen))\n",
    "  lstm.add(Dropout(0.2))\n",
    "  lstm.add(LSTM(128, activation = 'tanh', dropout = 0.2,\n",
    "                kernel_constraint = unit_norm(),\n",
    "                recurrent_constraint = unit_norm(),\n",
    "                bias_constraint = unit_norm()))\n",
    "  lstm.add(Dense(150, activation = 'relu')) \n",
    "  lstm.add(Dropout(0.2))\n",
    "  lstm.add(Dense(1, activation = 'sigmoid'))\n",
    "  lstm.compile(optimizer = 'adam', loss = 'binary_crossentropy', metrics = ['accuracy'])\n",
    "  return lstm"
   ]
  },
  {
   "cell_type": "code",
   "execution_count": 165,
   "metadata": {
    "executionInfo": {
     "elapsed": 14,
     "status": "ok",
     "timestamp": 1668273568693,
     "user": {
      "displayName": "Naveen Kumar",
      "userId": "15460283466251187880"
     },
     "user_tz": -330
    },
    "id": "byPvpgded-uQ"
   },
   "outputs": [],
   "source": [
    "model = base_model()"
   ]
  },
  {
   "cell_type": "code",
   "execution_count": 166,
   "metadata": {
    "colab": {
     "base_uri": "https://localhost:8080/"
    },
    "executionInfo": {
     "elapsed": 14,
     "status": "ok",
     "timestamp": 1668273568693,
     "user": {
      "displayName": "Naveen Kumar",
      "userId": "15460283466251187880"
     },
     "user_tz": -330
    },
    "id": "pPml_N6PfO4h",
    "outputId": "5c1a2d7e-7504-4de1-f73b-11e5eae9871e"
   },
   "outputs": [
    {
     "name": "stdout",
     "output_type": "stream",
     "text": [
      "Model: \"sequential_6\"\n",
      "_________________________________________________________________\n",
      " Layer (type)                Output Shape              Param #   \n",
      "=================================================================\n",
      " embedding_6 (Embedding)     (None, 100, 100)          1000000   \n",
      "                                                                 \n",
      " flatten_5 (Flatten)         (None, 10000)             0         \n",
      "                                                                 \n",
      " dense_8 (Dense)             (None, 1)                 10001     \n",
      "                                                                 \n",
      "=================================================================\n",
      "Total params: 1,010,001\n",
      "Trainable params: 1,010,001\n",
      "Non-trainable params: 0\n",
      "_________________________________________________________________\n"
     ]
    }
   ],
   "source": [
    "model.summary()"
   ]
  },
  {
   "cell_type": "code",
   "execution_count": 167,
   "metadata": {
    "colab": {
     "base_uri": "https://localhost:8080/"
    },
    "executionInfo": {
     "elapsed": 41617,
     "status": "ok",
     "timestamp": 1668273610303,
     "user": {
      "displayName": "Naveen Kumar",
      "userId": "15460283466251187880"
     },
     "user_tz": -330
    },
    "id": "kpyTVTShfSO7",
    "outputId": "50021bb9-7016-48e5-b751-f9d541bdc4f5"
   },
   "outputs": [
    {
     "name": "stdout",
     "output_type": "stream",
     "text": [
      "Epoch 1/15\n",
      "40/40 [==============================] - 3s 46ms/step - loss: 0.6812 - accuracy: 0.6061 - val_loss: 0.6482 - val_accuracy: 0.7132\n",
      "Epoch 2/15\n",
      "40/40 [==============================] - 2s 38ms/step - loss: 0.5372 - accuracy: 0.8109 - val_loss: 0.4624 - val_accuracy: 0.7994\n",
      "Epoch 3/15\n",
      "40/40 [==============================] - 2s 38ms/step - loss: 0.3447 - accuracy: 0.8776 - val_loss: 0.3701 - val_accuracy: 0.8362\n",
      "Epoch 4/15\n",
      "40/40 [==============================] - 1s 37ms/step - loss: 0.2478 - accuracy: 0.9134 - val_loss: 0.3426 - val_accuracy: 0.8458\n",
      "Epoch 5/15\n",
      "40/40 [==============================] - 2s 39ms/step - loss: 0.1878 - accuracy: 0.9446 - val_loss: 0.3326 - val_accuracy: 0.8482\n",
      "Epoch 6/15\n",
      "40/40 [==============================] - 2s 41ms/step - loss: 0.1417 - accuracy: 0.9657 - val_loss: 0.3321 - val_accuracy: 0.8504\n",
      "Epoch 7/15\n",
      "40/40 [==============================] - 2s 38ms/step - loss: 0.1052 - accuracy: 0.9811 - val_loss: 0.3367 - val_accuracy: 0.8484\n",
      "Epoch 8/15\n",
      "40/40 [==============================] - 2s 40ms/step - loss: 0.0776 - accuracy: 0.9908 - val_loss: 0.3442 - val_accuracy: 0.8452\n",
      "Epoch 9/15\n",
      "40/40 [==============================] - 2s 39ms/step - loss: 0.0574 - accuracy: 0.9957 - val_loss: 0.3511 - val_accuracy: 0.8460\n",
      "Epoch 10/15\n",
      "40/40 [==============================] - 2s 41ms/step - loss: 0.0427 - accuracy: 0.9987 - val_loss: 0.3586 - val_accuracy: 0.8456\n",
      "Epoch 11/15\n",
      "40/40 [==============================] - 2s 41ms/step - loss: 0.0324 - accuracy: 0.9992 - val_loss: 0.3665 - val_accuracy: 0.8456\n",
      "Epoch 12/15\n",
      "40/40 [==============================] - 2s 40ms/step - loss: 0.0252 - accuracy: 0.9995 - val_loss: 0.3740 - val_accuracy: 0.8440\n",
      "Epoch 13/15\n",
      "40/40 [==============================] - 2s 39ms/step - loss: 0.0201 - accuracy: 0.9998 - val_loss: 0.3811 - val_accuracy: 0.8450\n",
      "Epoch 14/15\n",
      "40/40 [==============================] - 2s 41ms/step - loss: 0.0163 - accuracy: 0.9999 - val_loss: 0.3886 - val_accuracy: 0.8434\n",
      "Epoch 15/15\n",
      "40/40 [==============================] - 2s 40ms/step - loss: 0.0135 - accuracy: 0.9999 - val_loss: 0.3947 - val_accuracy: 0.8432\n",
      "CPU times: user 36.6 s, sys: 1.62 s, total: 38.2 s\n",
      "Wall time: 41.7 s\n"
     ]
    },
    {
     "data": {
      "text/plain": [
       "<keras.callbacks.History at 0x7f75f90a0bd0>"
      ]
     },
     "execution_count": 167,
     "metadata": {},
     "output_type": "execute_result"
    }
   ],
   "source": [
    "%%time\n",
    "\n",
    "#fit Model\n",
    "# using 20% data for validation\n",
    "model.fit(X_train, y_train, epochs = 15, batch_size = 512, validation_split = 0.2)"
   ]
  },
  {
   "cell_type": "code",
   "execution_count": 168,
   "metadata": {
    "colab": {
     "base_uri": "https://localhost:8080/"
    },
    "executionInfo": {
     "elapsed": 2637,
     "status": "ok",
     "timestamp": 1668273612937,
     "user": {
      "displayName": "Naveen Kumar",
      "userId": "15460283466251187880"
     },
     "user_tz": -330
    },
    "id": "xwibKmJ2gAyn",
    "outputId": "bad81ba9-20ba-4981-cc00-7e43fca8c34f"
   },
   "outputs": [
    {
     "name": "stdout",
     "output_type": "stream",
     "text": [
      "Score : 0.3921610414981842\n",
      "Accuracy : 0.8475199937820435\n"
     ]
    }
   ],
   "source": [
    "#Printing scores and accuracy\n",
    "scores, accuracy = model.evaluate(X_test, y_test, verbose=0)\n",
    "print(\"Score :\", scores)\n",
    "print(\"Accuracy :\", accuracy)"
   ]
  },
  {
   "cell_type": "code",
   "execution_count": 169,
   "metadata": {
    "colab": {
     "base_uri": "https://localhost:8080/"
    },
    "executionInfo": {
     "elapsed": 5466,
     "status": "ok",
     "timestamp": 1668273618399,
     "user": {
      "displayName": "Naveen Kumar",
      "userId": "15460283466251187880"
     },
     "user_tz": -330
    },
    "id": "Pgv0CWE6gyRr",
    "outputId": "d8638300-4029-432e-b7ab-85f0449f3446"
   },
   "outputs": [
    {
     "name": "stdout",
     "output_type": "stream",
     "text": [
      "782/782 [==============================] - 3s 4ms/step - loss: 0.0883 - accuracy: 0.9686\n",
      "Training Loss: 0.0883 and Accuracy: 96.86%\n",
      "782/782 [==============================] - 2s 3ms/step - loss: 0.3922 - accuracy: 0.8475\n",
      "Test Loss: 0.3922 and Accuracy: 84.75%\n"
     ]
    }
   ],
   "source": [
    "train_loss, train_acc = model.evaluate(X_train, y_train)\n",
    "print('Training Loss: %.4f and Accuracy: %.2f%%' % (train_loss, train_acc * 100))\n",
    "\n",
    "test_loss, test_acc = model.evaluate(X_test, y_test)\n",
    "print('Test Loss: %.4f and Accuracy: %.2f%%' % (test_loss, test_acc * 100))"
   ]
  },
  {
   "cell_type": "code",
   "execution_count": 170,
   "metadata": {
    "executionInfo": {
     "elapsed": 601,
     "status": "ok",
     "timestamp": 1668273618980,
     "user": {
      "displayName": "Naveen Kumar",
      "userId": "15460283466251187880"
     },
     "user_tz": -330
    },
    "id": "e1IL8dFyg6Nk"
   },
   "outputs": [],
   "source": [
    "#Lets try with an LSTM model.\n",
    "lstm_model = lstm_model()"
   ]
  },
  {
   "cell_type": "code",
   "execution_count": 171,
   "metadata": {
    "colab": {
     "base_uri": "https://localhost:8080/"
    },
    "executionInfo": {
     "elapsed": 12,
     "status": "ok",
     "timestamp": 1668273618981,
     "user": {
      "displayName": "Naveen Kumar",
      "userId": "15460283466251187880"
     },
     "user_tz": -330
    },
    "id": "Fe-ouCzXhdFH",
    "outputId": "76598dab-2d79-44f7-cbc2-924df3d14c98"
   },
   "outputs": [
    {
     "name": "stdout",
     "output_type": "stream",
     "text": [
      "Model: \"sequential_7\"\n",
      "_________________________________________________________________\n",
      " Layer (type)                Output Shape              Param #   \n",
      "=================================================================\n",
      " embedding_7 (Embedding)     (None, 100, 100)          1000000   \n",
      "                                                                 \n",
      " dropout_3 (Dropout)         (None, 100, 100)          0         \n",
      "                                                                 \n",
      " lstm_2 (LSTM)               (None, 128)               117248    \n",
      "                                                                 \n",
      " dense_9 (Dense)             (None, 150)               19350     \n",
      "                                                                 \n",
      " dropout_4 (Dropout)         (None, 150)               0         \n",
      "                                                                 \n",
      " dense_10 (Dense)            (None, 1)                 151       \n",
      "                                                                 \n",
      "=================================================================\n",
      "Total params: 1,136,749\n",
      "Trainable params: 1,136,749\n",
      "Non-trainable params: 0\n",
      "_________________________________________________________________\n"
     ]
    }
   ],
   "source": [
    "lstm_model.summary()"
   ]
  },
  {
   "cell_type": "code",
   "execution_count": 172,
   "metadata": {
    "colab": {
     "base_uri": "https://localhost:8080/"
    },
    "executionInfo": {
     "elapsed": 384444,
     "status": "ok",
     "timestamp": 1668274003419,
     "user": {
      "displayName": "Naveen Kumar",
      "userId": "15460283466251187880"
     },
     "user_tz": -330
    },
    "id": "OosswLIkhfQi",
    "outputId": "01ea5738-d3d0-4368-8f99-a926c2c73648"
   },
   "outputs": [
    {
     "name": "stdout",
     "output_type": "stream",
     "text": [
      "Epoch 1/5\n",
      "157/157 [==============================] - 75s 462ms/step - loss: 0.4782 - accuracy: 0.7564 - val_loss: 0.3725 - val_accuracy: 0.8356\n",
      "Epoch 2/5\n",
      "157/157 [==============================] - 70s 447ms/step - loss: 0.2874 - accuracy: 0.8841 - val_loss: 0.3541 - val_accuracy: 0.8406\n",
      "Epoch 3/5\n",
      "157/157 [==============================] - 75s 476ms/step - loss: 0.2140 - accuracy: 0.9170 - val_loss: 0.4235 - val_accuracy: 0.8356\n",
      "Epoch 4/5\n",
      "157/157 [==============================] - 71s 452ms/step - loss: 0.1611 - accuracy: 0.9405 - val_loss: 0.4132 - val_accuracy: 0.8448\n",
      "Epoch 5/5\n",
      "157/157 [==============================] - 69s 441ms/step - loss: 0.1258 - accuracy: 0.9535 - val_loss: 0.5258 - val_accuracy: 0.8316\n",
      "CPU times: user 9min 31s, sys: 33.2 s, total: 10min 4s\n",
      "Wall time: 6min 24s\n"
     ]
    },
    {
     "data": {
      "text/plain": [
       "<keras.callbacks.History at 0x7f75e8a01b10>"
      ]
     },
     "execution_count": 172,
     "metadata": {},
     "output_type": "execute_result"
    }
   ],
   "source": [
    "%%time\n",
    "\n",
    "lstm_model.fit(X_train, y_train, epochs = 5, batch_size = 128, validation_split = 0.2)"
   ]
  },
  {
   "cell_type": "code",
   "execution_count": 173,
   "metadata": {
    "colab": {
     "base_uri": "https://localhost:8080/"
    },
    "executionInfo": {
     "elapsed": 131164,
     "status": "ok",
     "timestamp": 1668274134559,
     "user": {
      "displayName": "Naveen Kumar",
      "userId": "15460283466251187880"
     },
     "user_tz": -330
    },
    "id": "ym_H_jdlhqJC",
    "outputId": "6fa42d1d-1e83-42fc-a47d-5db180077340"
   },
   "outputs": [
    {
     "name": "stdout",
     "output_type": "stream",
     "text": [
      "782/782 [==============================] - 49s 63ms/step - loss: 0.1585 - accuracy: 0.9498\n",
      "Training Loss: 0.1585 and Accuracy: 94.98%\n",
      "782/782 [==============================] - 45s 57ms/step - loss: 0.5459 - accuracy: 0.8309\n",
      "Test Loss: 0.5459 and Accuracy: 83.09%\n",
      "CPU times: user 2min 14s, sys: 11.3 s, total: 2min 25s\n",
      "Wall time: 2min 11s\n"
     ]
    }
   ],
   "source": [
    "%%time\n",
    "\n",
    "train_loss, train_acc = lstm_model.evaluate(X_train, y_train)\n",
    "print('Training Loss: %.4f and Accuracy: %.2f%%' % (train_loss, train_acc * 100))\n",
    "\n",
    "test_loss, test_acc = lstm_model.evaluate(X_test, y_test)\n",
    "print('Test Loss: %.4f and Accuracy: %.2f%%' % (test_loss, test_acc * 100))"
   ]
  },
  {
   "cell_type": "markdown",
   "metadata": {
    "id": "hwcHdYLIm58U"
   },
   "source": [
    "## **6. Use the designed model to print the prediction on any one sample.**"
   ]
  },
  {
   "cell_type": "code",
   "execution_count": 174,
   "metadata": {
    "executionInfo": {
     "elapsed": 19,
     "status": "ok",
     "timestamp": 1668274134560,
     "user": {
      "displayName": "Naveen Kumar",
      "userId": "15460283466251187880"
     },
     "user_tz": -330
    },
    "id": "DClp2dknm3hZ"
   },
   "outputs": [],
   "source": [
    "def predict_sample(sample):\n",
    "  encoded_review = []\n",
    "  imdb_index = imdb.get_word_index()\n",
    "  index_from = 3\n",
    "  imdb_index = {key:value + index_from for key, value in imdb_index.items()}\n",
    "  imdb_index['the']\n",
    "  review_split = sample.split(\" \")\n",
    "  for word in review_split:\n",
    "    encoded_review.append(imdb_index[word])\n",
    "  review_padded = pad_sequences([encoded_review], maxlen=100)\n",
    "  pred = lstm_model.predict(review_padded)\n",
    "  if pred > 0.5:\n",
    "    sentiment = 'positive'\n",
    "  else:\n",
    "    sentiment = 'negative'\n",
    "  print(\"Review: {0}\\n\\tSentiment: {1}\".format(sample, sentiment))"
   ]
  },
  {
   "cell_type": "code",
   "execution_count": 175,
   "metadata": {
    "executionInfo": {
     "elapsed": 17,
     "status": "ok",
     "timestamp": 1668274134560,
     "user": {
      "displayName": "Naveen Kumar",
      "userId": "15460283466251187880"
     },
     "user_tz": -330
    },
    "id": "CNnE2k4HhTbV"
   },
   "outputs": [],
   "source": [
    "positiveReview = \"i liked this wonderful movie\"\n",
    "negatvieReview = \"i did not like this awkward movie\""
   ]
  },
  {
   "cell_type": "code",
   "execution_count": 176,
   "metadata": {
    "colab": {
     "base_uri": "https://localhost:8080/"
    },
    "executionInfo": {
     "elapsed": 731,
     "status": "ok",
     "timestamp": 1668274135274,
     "user": {
      "displayName": "Naveen Kumar",
      "userId": "15460283466251187880"
     },
     "user_tz": -330
    },
    "id": "aZZNZzz0nOBw",
    "outputId": "48ed49ae-44ce-433e-bb30-ddd7264aa212"
   },
   "outputs": [
    {
     "name": "stdout",
     "output_type": "stream",
     "text": [
      "1/1 [==============================] - 0s 472ms/step\n",
      "Review: i liked this wonderful movie\n",
      "\tSentiment: positive\n",
      "1/1 [==============================] - 0s 26ms/step\n",
      "Review: i did not like this awkward movie\n",
      "\tSentiment: negative\n"
     ]
    }
   ],
   "source": [
    "for review in [positiveReview, negatvieReview]:\n",
    "  predict_sample(review)"
   ]
  }
 ],
 "metadata": {
  "colab": {
   "authorship_tag": "ABX9TyMcsOo0Pra0kU4kGgL/ZBml",
   "collapsed_sections": [],
   "provenance": []
  },
  "kernelspec": {
   "display_name": "Python 3 (ipykernel)",
   "language": "python",
   "name": "python3"
  },
  "language_info": {
   "codemirror_mode": {
    "name": "ipython",
    "version": 3
   },
   "file_extension": ".py",
   "mimetype": "text/x-python",
   "name": "python",
   "nbconvert_exporter": "python",
   "pygments_lexer": "ipython3",
   "version": "3.9.7"
  }
 },
 "nbformat": 4,
 "nbformat_minor": 1
}
