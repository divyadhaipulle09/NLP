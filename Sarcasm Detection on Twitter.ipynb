{
 "cells": [
  {
   "cell_type": "code",
   "execution_count": 144,
   "metadata": {
    "colab": {
     "base_uri": "https://localhost:8080/"
    },
    "executionInfo": {
     "elapsed": 4556,
     "status": "ok",
     "timestamp": 1668273562473,
     "user": {
      "displayName": "Naveen Kumar",
      "userId": "15460283466251187880"
     },
     "user_tz": -330
    },
    "id": "i-A4Bj8W13Qs",
    "outputId": "676a4bd5-0604-43bb-c958-089f1d187482"
   },
   "outputs": [
    {
     "name": "stdout",
     "output_type": "stream",
     "text": [
      "Drive already mounted at /content/drive; to attempt to forcibly remount, call drive.mount(\"/content/drive\", force_remount=True).\n"
     ]
    }
   ],
   "source": [
    "from google.colab import drive\n",
    "drive.mount('/content/drive')"
   ]
  },
  {
   "cell_type": "code",
   "execution_count": 147,
   "metadata": {
    "executionInfo": {
     "elapsed": 10,
     "status": "ok",
     "timestamp": 1668273562475,
     "user": {
      "displayName": "Naveen Kumar",
      "userId": "15460283466251187880"
     },
     "user_tz": -330
    },
    "id": "xXbzEt8P2qYq"
   },
   "outputs": [],
   "source": [
    "import warnings\n",
    "warnings.filterwarnings('ignore')\n",
    "\n",
    "from tensorflow.keras.datasets import imdb\n",
    "import numpy as np\n",
    "import pandas as pd\n",
    "import os\n",
    "from tensorflow.keras.preprocessing.sequence import pad_sequences\n",
    "from random import randint\n",
    "from zipfile import ZipFile\n",
    "from sklearn.model_selection import train_test_split\n",
    "\n",
    "import nltk\n",
    "from nltk.corpus import stopwords \n",
    "\n",
    "import seaborn as sns\n",
    "import matplotlib.pyplot as plt\n",
    "%matplotlib inline\n",
    "\n",
    "import tensorflow.keras.backend as K\n",
    "import tensorflow.keras.preprocessing as preprocessing\n",
    "from tensorflow.keras.preprocessing.text import Tokenizer\n",
    "from tensorflow.keras.datasets import imdb\n",
    "from tensorflow.keras.models import Sequential, Model\n",
    "from tensorflow.keras.layers import Dropout, Flatten, Dense, Embedding, LSTM\n",
    "from tensorflow.keras.layers import Input, Bidirectional\n",
    "from tensorflow.keras.constraints import max_norm, unit_norm\n",
    "from tensorflow.keras.preprocessing.sequence import pad_sequences"
   ]
  },
  {
   "cell_type": "code",
   "execution_count": 148,
   "metadata": {
    "colab": {
     "base_uri": "https://localhost:8080/"
    },
    "executionInfo": {
     "elapsed": 10,
     "status": "ok",
     "timestamp": 1668273562476,
     "user": {
      "displayName": "Naveen Kumar",
      "userId": "15460283466251187880"
     },
     "user_tz": -330
    },
    "id": "FIffW3QMoLZh",
    "outputId": "7e7e75d0-f5d8-461f-a320-fefeb3cd6576"
   },
   "outputs": [
    {
     "name": "stderr",
     "output_type": "stream",
     "text": [
      "[nltk_data] Downloading package stopwords to /root/nltk_data...\n",
      "[nltk_data]   Package stopwords is already up-to-date!\n"
     ]
    },
    {
     "data": {
      "text/plain": [
       "True"
      ]
     },
     "execution_count": 148,
     "metadata": {},
     "output_type": "execute_result"
    }
   ],
   "source": [
    "nltk.download('stopwords')"
   ]
  },
  {
   "cell_type": "code",
   "execution_count": 177,
   "metadata": {
    "executionInfo": {
     "elapsed": 592,
     "status": "ok",
     "timestamp": 1668274135863,
     "user": {
      "displayName": "Naveen Kumar",
      "userId": "15460283466251187880"
     },
     "user_tz": -330
    },
    "id": "jfqCvV1unWwa"
   },
   "outputs": [],
   "source": [
    "# Read and explore the data\n",
    "data = pd.read_json(\"https://raw.githubusercontent.com/rishabhmisra/News-Headlines-Dataset-For-Sarcasm-Detection/master/Sarcasm_Headlines_Dataset.json\", lines=True)"
   ]
  },
  {
   "cell_type": "code",
   "execution_count": 178,
   "metadata": {
    "colab": {
     "base_uri": "https://localhost:8080/",
     "height": 206
    },
    "executionInfo": {
     "elapsed": 35,
     "status": "ok",
     "timestamp": 1668274135864,
     "user": {
      "displayName": "Naveen Kumar",
      "userId": "15460283466251187880"
     },
     "user_tz": -330
    },
    "id": "Fw5lIVtBniK9",
    "outputId": "6787e9b4-040c-4b75-d462-9b370a5d2573"
   },
   "outputs": [
    {
     "data": {
      "text/html": [
       "\n",
       "  <div id=\"df-5f18d109-49be-49cf-88b6-a21d7dc7d043\">\n",
       "    <div class=\"colab-df-container\">\n",
       "      <div>\n",
       "<style scoped>\n",
       "    .dataframe tbody tr th:only-of-type {\n",
       "        vertical-align: middle;\n",
       "    }\n",
       "\n",
       "    .dataframe tbody tr th {\n",
       "        vertical-align: top;\n",
       "    }\n",
       "\n",
       "    .dataframe thead th {\n",
       "        text-align: right;\n",
       "    }\n",
       "</style>\n",
       "<table border=\"1\" class=\"dataframe\">\n",
       "  <thead>\n",
       "    <tr style=\"text-align: right;\">\n",
       "      <th></th>\n",
       "      <th>is_sarcastic</th>\n",
       "      <th>headline</th>\n",
       "      <th>article_link</th>\n",
       "    </tr>\n",
       "  </thead>\n",
       "  <tbody>\n",
       "    <tr>\n",
       "      <th>0</th>\n",
       "      <td>1</td>\n",
       "      <td>thirtysomething scientists unveil doomsday clo...</td>\n",
       "      <td>https://www.theonion.com/thirtysomething-scien...</td>\n",
       "    </tr>\n",
       "    <tr>\n",
       "      <th>1</th>\n",
       "      <td>0</td>\n",
       "      <td>dem rep. totally nails why congress is falling...</td>\n",
       "      <td>https://www.huffingtonpost.com/entry/donna-edw...</td>\n",
       "    </tr>\n",
       "    <tr>\n",
       "      <th>2</th>\n",
       "      <td>0</td>\n",
       "      <td>eat your veggies: 9 deliciously different recipes</td>\n",
       "      <td>https://www.huffingtonpost.com/entry/eat-your-...</td>\n",
       "    </tr>\n",
       "    <tr>\n",
       "      <th>3</th>\n",
       "      <td>1</td>\n",
       "      <td>inclement weather prevents liar from getting t...</td>\n",
       "      <td>https://local.theonion.com/inclement-weather-p...</td>\n",
       "    </tr>\n",
       "    <tr>\n",
       "      <th>4</th>\n",
       "      <td>1</td>\n",
       "      <td>mother comes pretty close to using word 'strea...</td>\n",
       "      <td>https://www.theonion.com/mother-comes-pretty-c...</td>\n",
       "    </tr>\n",
       "  </tbody>\n",
       "</table>\n",
       "</div>\n",
       "      <button class=\"colab-df-convert\" onclick=\"convertToInteractive('df-5f18d109-49be-49cf-88b6-a21d7dc7d043')\"\n",
       "              title=\"Convert this dataframe to an interactive table.\"\n",
       "              style=\"display:none;\">\n",
       "        \n",
       "  <svg xmlns=\"http://www.w3.org/2000/svg\" height=\"24px\"viewBox=\"0 0 24 24\"\n",
       "       width=\"24px\">\n",
       "    <path d=\"M0 0h24v24H0V0z\" fill=\"none\"/>\n",
       "    <path d=\"M18.56 5.44l.94 2.06.94-2.06 2.06-.94-2.06-.94-.94-2.06-.94 2.06-2.06.94zm-11 1L8.5 8.5l.94-2.06 2.06-.94-2.06-.94L8.5 2.5l-.94 2.06-2.06.94zm10 10l.94 2.06.94-2.06 2.06-.94-2.06-.94-.94-2.06-.94 2.06-2.06.94z\"/><path d=\"M17.41 7.96l-1.37-1.37c-.4-.4-.92-.59-1.43-.59-.52 0-1.04.2-1.43.59L10.3 9.45l-7.72 7.72c-.78.78-.78 2.05 0 2.83L4 21.41c.39.39.9.59 1.41.59.51 0 1.02-.2 1.41-.59l7.78-7.78 2.81-2.81c.8-.78.8-2.07 0-2.86zM5.41 20L4 18.59l7.72-7.72 1.47 1.35L5.41 20z\"/>\n",
       "  </svg>\n",
       "      </button>\n",
       "      \n",
       "  <style>\n",
       "    .colab-df-container {\n",
       "      display:flex;\n",
       "      flex-wrap:wrap;\n",
       "      gap: 12px;\n",
       "    }\n",
       "\n",
       "    .colab-df-convert {\n",
       "      background-color: #E8F0FE;\n",
       "      border: none;\n",
       "      border-radius: 50%;\n",
       "      cursor: pointer;\n",
       "      display: none;\n",
       "      fill: #1967D2;\n",
       "      height: 32px;\n",
       "      padding: 0 0 0 0;\n",
       "      width: 32px;\n",
       "    }\n",
       "\n",
       "    .colab-df-convert:hover {\n",
       "      background-color: #E2EBFA;\n",
       "      box-shadow: 0px 1px 2px rgba(60, 64, 67, 0.3), 0px 1px 3px 1px rgba(60, 64, 67, 0.15);\n",
       "      fill: #174EA6;\n",
       "    }\n",
       "\n",
       "    [theme=dark] .colab-df-convert {\n",
       "      background-color: #3B4455;\n",
       "      fill: #D2E3FC;\n",
       "    }\n",
       "\n",
       "    [theme=dark] .colab-df-convert:hover {\n",
       "      background-color: #434B5C;\n",
       "      box-shadow: 0px 1px 3px 1px rgba(0, 0, 0, 0.15);\n",
       "      filter: drop-shadow(0px 1px 2px rgba(0, 0, 0, 0.3));\n",
       "      fill: #FFFFFF;\n",
       "    }\n",
       "  </style>\n",
       "\n",
       "      <script>\n",
       "        const buttonEl =\n",
       "          document.querySelector('#df-5f18d109-49be-49cf-88b6-a21d7dc7d043 button.colab-df-convert');\n",
       "        buttonEl.style.display =\n",
       "          google.colab.kernel.accessAllowed ? 'block' : 'none';\n",
       "\n",
       "        async function convertToInteractive(key) {\n",
       "          const element = document.querySelector('#df-5f18d109-49be-49cf-88b6-a21d7dc7d043');\n",
       "          const dataTable =\n",
       "            await google.colab.kernel.invokeFunction('convertToInteractive',\n",
       "                                                     [key], {});\n",
       "          if (!dataTable) return;\n",
       "\n",
       "          const docLinkHtml = 'Like what you see? Visit the ' +\n",
       "            '<a target=\"_blank\" href=https://colab.research.google.com/notebooks/data_table.ipynb>data table notebook</a>'\n",
       "            + ' to learn more about interactive tables.';\n",
       "          element.innerHTML = '';\n",
       "          dataTable['output_type'] = 'display_data';\n",
       "          await google.colab.output.renderOutput(dataTable, element);\n",
       "          const docLink = document.createElement('div');\n",
       "          docLink.innerHTML = docLinkHtml;\n",
       "          element.appendChild(docLink);\n",
       "        }\n",
       "      </script>\n",
       "    </div>\n",
       "  </div>\n",
       "  "
      ],
      "text/plain": [
       "   is_sarcastic                                           headline  \\\n",
       "0             1  thirtysomething scientists unveil doomsday clo...   \n",
       "1             0  dem rep. totally nails why congress is falling...   \n",
       "2             0  eat your veggies: 9 deliciously different recipes   \n",
       "3             1  inclement weather prevents liar from getting t...   \n",
       "4             1  mother comes pretty close to using word 'strea...   \n",
       "\n",
       "                                        article_link  \n",
       "0  https://www.theonion.com/thirtysomething-scien...  \n",
       "1  https://www.huffingtonpost.com/entry/donna-edw...  \n",
       "2  https://www.huffingtonpost.com/entry/eat-your-...  \n",
       "3  https://local.theonion.com/inclement-weather-p...  \n",
       "4  https://www.theonion.com/mother-comes-pretty-c...  "
      ]
     },
     "execution_count": 178,
     "metadata": {},
     "output_type": "execute_result"
    }
   ],
   "source": [
    "data.head()"
   ]
  },
  {
   "cell_type": "code",
   "execution_count": 179,
   "metadata": {
    "colab": {
     "base_uri": "https://localhost:8080/",
     "height": 206
    },
    "executionInfo": {
     "elapsed": 31,
     "status": "ok",
     "timestamp": 1668274135865,
     "user": {
      "displayName": "Naveen Kumar",
      "userId": "15460283466251187880"
     },
     "user_tz": -330
    },
    "id": "5CtOwLPFniNO",
    "outputId": "d1af7f87-9e77-4c38-8475-cbebce22d467"
   },
   "outputs": [
    {
     "data": {
      "text/html": [
       "\n",
       "  <div id=\"df-de2856ab-0bc6-4aec-a5f2-175c61a4418e\">\n",
       "    <div class=\"colab-df-container\">\n",
       "      <div>\n",
       "<style scoped>\n",
       "    .dataframe tbody tr th:only-of-type {\n",
       "        vertical-align: middle;\n",
       "    }\n",
       "\n",
       "    .dataframe tbody tr th {\n",
       "        vertical-align: top;\n",
       "    }\n",
       "\n",
       "    .dataframe thead th {\n",
       "        text-align: right;\n",
       "    }\n",
       "</style>\n",
       "<table border=\"1\" class=\"dataframe\">\n",
       "  <thead>\n",
       "    <tr style=\"text-align: right;\">\n",
       "      <th></th>\n",
       "      <th>is_sarcastic</th>\n",
       "      <th>headline</th>\n",
       "      <th>article_link</th>\n",
       "    </tr>\n",
       "  </thead>\n",
       "  <tbody>\n",
       "    <tr>\n",
       "      <th>28614</th>\n",
       "      <td>1</td>\n",
       "      <td>jews to celebrate rosh hashasha or something</td>\n",
       "      <td>https://www.theonion.com/jews-to-celebrate-ros...</td>\n",
       "    </tr>\n",
       "    <tr>\n",
       "      <th>28615</th>\n",
       "      <td>1</td>\n",
       "      <td>internal affairs investigator disappointed con...</td>\n",
       "      <td>https://local.theonion.com/internal-affairs-in...</td>\n",
       "    </tr>\n",
       "    <tr>\n",
       "      <th>28616</th>\n",
       "      <td>0</td>\n",
       "      <td>the most beautiful acceptance speech this week...</td>\n",
       "      <td>https://www.huffingtonpost.com/entry/andrew-ah...</td>\n",
       "    </tr>\n",
       "    <tr>\n",
       "      <th>28617</th>\n",
       "      <td>1</td>\n",
       "      <td>mars probe destroyed by orbiting spielberg-gat...</td>\n",
       "      <td>https://www.theonion.com/mars-probe-destroyed-...</td>\n",
       "    </tr>\n",
       "    <tr>\n",
       "      <th>28618</th>\n",
       "      <td>1</td>\n",
       "      <td>dad clarifies this not a food stop</td>\n",
       "      <td>https://www.theonion.com/dad-clarifies-this-no...</td>\n",
       "    </tr>\n",
       "  </tbody>\n",
       "</table>\n",
       "</div>\n",
       "      <button class=\"colab-df-convert\" onclick=\"convertToInteractive('df-de2856ab-0bc6-4aec-a5f2-175c61a4418e')\"\n",
       "              title=\"Convert this dataframe to an interactive table.\"\n",
       "              style=\"display:none;\">\n",
       "        \n",
       "  <svg xmlns=\"http://www.w3.org/2000/svg\" height=\"24px\"viewBox=\"0 0 24 24\"\n",
       "       width=\"24px\">\n",
       "    <path d=\"M0 0h24v24H0V0z\" fill=\"none\"/>\n",
       "    <path d=\"M18.56 5.44l.94 2.06.94-2.06 2.06-.94-2.06-.94-.94-2.06-.94 2.06-2.06.94zm-11 1L8.5 8.5l.94-2.06 2.06-.94-2.06-.94L8.5 2.5l-.94 2.06-2.06.94zm10 10l.94 2.06.94-2.06 2.06-.94-2.06-.94-.94-2.06-.94 2.06-2.06.94z\"/><path d=\"M17.41 7.96l-1.37-1.37c-.4-.4-.92-.59-1.43-.59-.52 0-1.04.2-1.43.59L10.3 9.45l-7.72 7.72c-.78.78-.78 2.05 0 2.83L4 21.41c.39.39.9.59 1.41.59.51 0 1.02-.2 1.41-.59l7.78-7.78 2.81-2.81c.8-.78.8-2.07 0-2.86zM5.41 20L4 18.59l7.72-7.72 1.47 1.35L5.41 20z\"/>\n",
       "  </svg>\n",
       "      </button>\n",
       "      \n",
       "  <style>\n",
       "    .colab-df-container {\n",
       "      display:flex;\n",
       "      flex-wrap:wrap;\n",
       "      gap: 12px;\n",
       "    }\n",
       "\n",
       "    .colab-df-convert {\n",
       "      background-color: #E8F0FE;\n",
       "      border: none;\n",
       "      border-radius: 50%;\n",
       "      cursor: pointer;\n",
       "      display: none;\n",
       "      fill: #1967D2;\n",
       "      height: 32px;\n",
       "      padding: 0 0 0 0;\n",
       "      width: 32px;\n",
       "    }\n",
       "\n",
       "    .colab-df-convert:hover {\n",
       "      background-color: #E2EBFA;\n",
       "      box-shadow: 0px 1px 2px rgba(60, 64, 67, 0.3), 0px 1px 3px 1px rgba(60, 64, 67, 0.15);\n",
       "      fill: #174EA6;\n",
       "    }\n",
       "\n",
       "    [theme=dark] .colab-df-convert {\n",
       "      background-color: #3B4455;\n",
       "      fill: #D2E3FC;\n",
       "    }\n",
       "\n",
       "    [theme=dark] .colab-df-convert:hover {\n",
       "      background-color: #434B5C;\n",
       "      box-shadow: 0px 1px 3px 1px rgba(0, 0, 0, 0.15);\n",
       "      filter: drop-shadow(0px 1px 2px rgba(0, 0, 0, 0.3));\n",
       "      fill: #FFFFFF;\n",
       "    }\n",
       "  </style>\n",
       "\n",
       "      <script>\n",
       "        const buttonEl =\n",
       "          document.querySelector('#df-de2856ab-0bc6-4aec-a5f2-175c61a4418e button.colab-df-convert');\n",
       "        buttonEl.style.display =\n",
       "          google.colab.kernel.accessAllowed ? 'block' : 'none';\n",
       "\n",
       "        async function convertToInteractive(key) {\n",
       "          const element = document.querySelector('#df-de2856ab-0bc6-4aec-a5f2-175c61a4418e');\n",
       "          const dataTable =\n",
       "            await google.colab.kernel.invokeFunction('convertToInteractive',\n",
       "                                                     [key], {});\n",
       "          if (!dataTable) return;\n",
       "\n",
       "          const docLinkHtml = 'Like what you see? Visit the ' +\n",
       "            '<a target=\"_blank\" href=https://colab.research.google.com/notebooks/data_table.ipynb>data table notebook</a>'\n",
       "            + ' to learn more about interactive tables.';\n",
       "          element.innerHTML = '';\n",
       "          dataTable['output_type'] = 'display_data';\n",
       "          await google.colab.output.renderOutput(dataTable, element);\n",
       "          const docLink = document.createElement('div');\n",
       "          docLink.innerHTML = docLinkHtml;\n",
       "          element.appendChild(docLink);\n",
       "        }\n",
       "      </script>\n",
       "    </div>\n",
       "  </div>\n",
       "  "
      ],
      "text/plain": [
       "       is_sarcastic                                           headline  \\\n",
       "28614             1       jews to celebrate rosh hashasha or something   \n",
       "28615             1  internal affairs investigator disappointed con...   \n",
       "28616             0  the most beautiful acceptance speech this week...   \n",
       "28617             1  mars probe destroyed by orbiting spielberg-gat...   \n",
       "28618             1                 dad clarifies this not a food stop   \n",
       "\n",
       "                                            article_link  \n",
       "28614  https://www.theonion.com/jews-to-celebrate-ros...  \n",
       "28615  https://local.theonion.com/internal-affairs-in...  \n",
       "28616  https://www.huffingtonpost.com/entry/andrew-ah...  \n",
       "28617  https://www.theonion.com/mars-probe-destroyed-...  \n",
       "28618  https://www.theonion.com/dad-clarifies-this-no...  "
      ]
     },
     "execution_count": 179,
     "metadata": {},
     "output_type": "execute_result"
    }
   ],
   "source": [
    "data.tail()"
   ]
  },
  {
   "cell_type": "code",
   "execution_count": 180,
   "metadata": {
    "colab": {
     "base_uri": "https://localhost:8080/"
    },
    "executionInfo": {
     "elapsed": 29,
     "status": "ok",
     "timestamp": 1668274135865,
     "user": {
      "displayName": "Naveen Kumar",
      "userId": "15460283466251187880"
     },
     "user_tz": -330
    },
    "id": "WzzhKu1HniP8",
    "outputId": "f7395527-6161-422c-a503-6489888f855c"
   },
   "outputs": [
    {
     "data": {
      "text/plain": [
       "(28619, 3)"
      ]
     },
     "execution_count": 180,
     "metadata": {},
     "output_type": "execute_result"
    }
   ],
   "source": [
    "data.shape"
   ]
  },
  {
   "cell_type": "code",
   "execution_count": 181,
   "metadata": {
    "colab": {
     "base_uri": "https://localhost:8080/"
    },
    "executionInfo": {
     "elapsed": 24,
     "status": "ok",
     "timestamp": 1668274135866,
     "user": {
      "displayName": "Naveen Kumar",
      "userId": "15460283466251187880"
     },
     "user_tz": -330
    },
    "id": "x4PYAS0aniSH",
    "outputId": "051618e8-ce6c-4510-a8f6-8140a4e7ea49"
   },
   "outputs": [
    {
     "name": "stdout",
     "output_type": "stream",
     "text": [
      "<class 'pandas.core.frame.DataFrame'>\n",
      "RangeIndex: 28619 entries, 0 to 28618\n",
      "Data columns (total 3 columns):\n",
      " #   Column        Non-Null Count  Dtype \n",
      "---  ------        --------------  ----- \n",
      " 0   is_sarcastic  28619 non-null  int64 \n",
      " 1   headline      28619 non-null  object\n",
      " 2   article_link  28619 non-null  object\n",
      "dtypes: int64(1), object(2)\n",
      "memory usage: 670.9+ KB\n"
     ]
    }
   ],
   "source": [
    "# Print the info of data\n",
    "data.info()"
   ]
  },
  {
   "cell_type": "code",
   "execution_count": 182,
   "metadata": {
    "colab": {
     "base_uri": "https://localhost:8080/"
    },
    "executionInfo": {
     "elapsed": 20,
     "status": "ok",
     "timestamp": 1668274135867,
     "user": {
      "displayName": "Naveen Kumar",
      "userId": "15460283466251187880"
     },
     "user_tz": -330
    },
    "id": "QqzUVbKhntf1",
    "outputId": "4bc05026-7183-4088-87f8-684d900cf11a"
   },
   "outputs": [
    {
     "data": {
      "text/plain": [
       "is_sarcastic    0\n",
       "headline        0\n",
       "article_link    0\n",
       "dtype: int64"
      ]
     },
     "execution_count": 182,
     "metadata": {},
     "output_type": "execute_result"
    }
   ],
   "source": [
    "# Check if there are any NULL values\n",
    "data.isnull().sum()"
   ]
  },
  {
   "cell_type": "code",
   "execution_count": 183,
   "metadata": {
    "colab": {
     "base_uri": "https://localhost:8080/",
     "height": 112
    },
    "executionInfo": {
     "elapsed": 17,
     "status": "ok",
     "timestamp": 1668274135868,
     "user": {
      "displayName": "Naveen Kumar",
      "userId": "15460283466251187880"
     },
     "user_tz": -330
    },
    "id": "cdpAjKkgntiS",
    "outputId": "c89d3092-5c1c-489e-e155-6705b2f8f99a"
   },
   "outputs": [
    {
     "data": {
      "text/html": [
       "\n",
       "  <div id=\"df-5e8de0bd-c252-4b45-a96e-1b573d5d6af3\">\n",
       "    <div class=\"colab-df-container\">\n",
       "      <div>\n",
       "<style scoped>\n",
       "    .dataframe tbody tr th:only-of-type {\n",
       "        vertical-align: middle;\n",
       "    }\n",
       "\n",
       "    .dataframe tbody tr th {\n",
       "        vertical-align: top;\n",
       "    }\n",
       "\n",
       "    .dataframe thead th {\n",
       "        text-align: right;\n",
       "    }\n",
       "</style>\n",
       "<table border=\"1\" class=\"dataframe\">\n",
       "  <thead>\n",
       "    <tr style=\"text-align: right;\">\n",
       "      <th></th>\n",
       "      <th>is_sarcastic</th>\n",
       "    </tr>\n",
       "  </thead>\n",
       "  <tbody>\n",
       "    <tr>\n",
       "      <th>0</th>\n",
       "      <td>14985</td>\n",
       "    </tr>\n",
       "    <tr>\n",
       "      <th>1</th>\n",
       "      <td>13634</td>\n",
       "    </tr>\n",
       "  </tbody>\n",
       "</table>\n",
       "</div>\n",
       "      <button class=\"colab-df-convert\" onclick=\"convertToInteractive('df-5e8de0bd-c252-4b45-a96e-1b573d5d6af3')\"\n",
       "              title=\"Convert this dataframe to an interactive table.\"\n",
       "              style=\"display:none;\">\n",
       "        \n",
       "  <svg xmlns=\"http://www.w3.org/2000/svg\" height=\"24px\"viewBox=\"0 0 24 24\"\n",
       "       width=\"24px\">\n",
       "    <path d=\"M0 0h24v24H0V0z\" fill=\"none\"/>\n",
       "    <path d=\"M18.56 5.44l.94 2.06.94-2.06 2.06-.94-2.06-.94-.94-2.06-.94 2.06-2.06.94zm-11 1L8.5 8.5l.94-2.06 2.06-.94-2.06-.94L8.5 2.5l-.94 2.06-2.06.94zm10 10l.94 2.06.94-2.06 2.06-.94-2.06-.94-.94-2.06-.94 2.06-2.06.94z\"/><path d=\"M17.41 7.96l-1.37-1.37c-.4-.4-.92-.59-1.43-.59-.52 0-1.04.2-1.43.59L10.3 9.45l-7.72 7.72c-.78.78-.78 2.05 0 2.83L4 21.41c.39.39.9.59 1.41.59.51 0 1.02-.2 1.41-.59l7.78-7.78 2.81-2.81c.8-.78.8-2.07 0-2.86zM5.41 20L4 18.59l7.72-7.72 1.47 1.35L5.41 20z\"/>\n",
       "  </svg>\n",
       "      </button>\n",
       "      \n",
       "  <style>\n",
       "    .colab-df-container {\n",
       "      display:flex;\n",
       "      flex-wrap:wrap;\n",
       "      gap: 12px;\n",
       "    }\n",
       "\n",
       "    .colab-df-convert {\n",
       "      background-color: #E8F0FE;\n",
       "      border: none;\n",
       "      border-radius: 50%;\n",
       "      cursor: pointer;\n",
       "      display: none;\n",
       "      fill: #1967D2;\n",
       "      height: 32px;\n",
       "      padding: 0 0 0 0;\n",
       "      width: 32px;\n",
       "    }\n",
       "\n",
       "    .colab-df-convert:hover {\n",
       "      background-color: #E2EBFA;\n",
       "      box-shadow: 0px 1px 2px rgba(60, 64, 67, 0.3), 0px 1px 3px 1px rgba(60, 64, 67, 0.15);\n",
       "      fill: #174EA6;\n",
       "    }\n",
       "\n",
       "    [theme=dark] .colab-df-convert {\n",
       "      background-color: #3B4455;\n",
       "      fill: #D2E3FC;\n",
       "    }\n",
       "\n",
       "    [theme=dark] .colab-df-convert:hover {\n",
       "      background-color: #434B5C;\n",
       "      box-shadow: 0px 1px 3px 1px rgba(0, 0, 0, 0.15);\n",
       "      filter: drop-shadow(0px 1px 2px rgba(0, 0, 0, 0.3));\n",
       "      fill: #FFFFFF;\n",
       "    }\n",
       "  </style>\n",
       "\n",
       "      <script>\n",
       "        const buttonEl =\n",
       "          document.querySelector('#df-5e8de0bd-c252-4b45-a96e-1b573d5d6af3 button.colab-df-convert');\n",
       "        buttonEl.style.display =\n",
       "          google.colab.kernel.accessAllowed ? 'block' : 'none';\n",
       "\n",
       "        async function convertToInteractive(key) {\n",
       "          const element = document.querySelector('#df-5e8de0bd-c252-4b45-a96e-1b573d5d6af3');\n",
       "          const dataTable =\n",
       "            await google.colab.kernel.invokeFunction('convertToInteractive',\n",
       "                                                     [key], {});\n",
       "          if (!dataTable) return;\n",
       "\n",
       "          const docLinkHtml = 'Like what you see? Visit the ' +\n",
       "            '<a target=\"_blank\" href=https://colab.research.google.com/notebooks/data_table.ipynb>data table notebook</a>'\n",
       "            + ' to learn more about interactive tables.';\n",
       "          element.innerHTML = '';\n",
       "          dataTable['output_type'] = 'display_data';\n",
       "          await google.colab.output.renderOutput(dataTable, element);\n",
       "          const docLink = document.createElement('div');\n",
       "          docLink.innerHTML = docLinkHtml;\n",
       "          element.appendChild(docLink);\n",
       "        }\n",
       "      </script>\n",
       "    </div>\n",
       "  </div>\n",
       "  "
      ],
      "text/plain": [
       "   is_sarcastic\n",
       "0         14985\n",
       "1         13634"
      ]
     },
     "execution_count": 183,
     "metadata": {},
     "output_type": "execute_result"
    }
   ],
   "source": [
    "# Printing sarcatic vs non sarcatic dataset\n",
    "df_sarcastic = data.is_sarcastic.value_counts().to_frame()\n",
    "df_sarcastic"
   ]
  },
  {
   "cell_type": "code",
   "execution_count": 184,
   "metadata": {
    "colab": {
     "base_uri": "https://localhost:8080/",
     "height": 282
    },
    "executionInfo": {
     "elapsed": 742,
     "status": "ok",
     "timestamp": 1668274136594,
     "user": {
      "displayName": "Naveen Kumar",
      "userId": "15460283466251187880"
     },
     "user_tz": -330
    },
    "id": "5f7N_jwwntlC",
    "outputId": "5a496cba-621e-4fb7-a27e-deb081989bb9"
   },
   "outputs": [
    {
     "data": {
      "text/plain": [
       "(array([0, 1]), <a list of 2 Text major ticklabel objects>)"
      ]
     },
     "execution_count": 184,
     "metadata": {},
     "output_type": "execute_result"
    },
    {
     "data": {
      "image/png": "[encoded data removed]",
      "text/plain": [
       "<Figure size 432x288 with 1 Axes>"
      ]
     },
     "metadata": {
      "needs_background": "light"
     },
     "output_type": "display_data"
    }
   ],
   "source": [
    "df_sarcastic.plot(kind = 'bar')\n",
    "plt.xticks(rotation = 0)"
   ]
  },
  {
   "cell_type": "code",
   "execution_count": 185,
   "metadata": {
    "executionInfo": {
     "elapsed": 3472,
     "status": "ok",
     "timestamp": 1668274140062,
     "user": {
      "displayName": "Naveen Kumar",
      "userId": "15460283466251187880"
     },
     "user_tz": -330
    },
    "id": "LtbbIb3VntnY"
   },
   "outputs": [],
   "source": [
    "# We need to remove the stop words from the headlines to train the model better\n",
    "clean_headlines=[]\n",
    "for headline in data['headline']:\n",
    "  headline = headline.lower()\n",
    "  headline = headline.split()\n",
    "  stops = set(stopwords.words(\"english\"))\n",
    "  headline = [w for w in headline if not w in stops]\n",
    "  headline = \" \".join(headline)\n",
    "  clean_headlines.append(headline)"
   ]
  },
  {
   "cell_type": "markdown",
   "metadata": {
    "id": "U9Vdb73-o9JT"
   },
   "source": [
    "## **2. Retain relevant columns**"
   ]
  },
  {
   "cell_type": "code",
   "execution_count": 186,
   "metadata": {
    "colab": {
     "base_uri": "https://localhost:8080/",
     "height": 206
    },
    "executionInfo": {
     "elapsed": 17,
     "status": "ok",
     "timestamp": 1668274140066,
     "user": {
      "displayName": "Naveen Kumar",
      "userId": "15460283466251187880"
     },
     "user_tz": -330
    },
    "id": "3I2LtU2Dntpj",
    "outputId": "8e4ef61c-8e87-4e35-9ca7-fcd9888106cf"
   },
   "outputs": [
    {
     "data": {
      "text/html": [
       "\n",
       "  <div id=\"df-72601b5a-4068-4f1e-a89e-f1fe85e25966\">\n",
       "    <div class=\"colab-df-container\">\n",
       "      <div>\n",
       "<style scoped>\n",
       "    .dataframe tbody tr th:only-of-type {\n",
       "        vertical-align: middle;\n",
       "    }\n",
       "\n",
       "    .dataframe tbody tr th {\n",
       "        vertical-align: top;\n",
       "    }\n",
       "\n",
       "    .dataframe thead th {\n",
       "        text-align: right;\n",
       "    }\n",
       "</style>\n",
       "<table border=\"1\" class=\"dataframe\">\n",
       "  <thead>\n",
       "    <tr style=\"text-align: right;\">\n",
       "      <th></th>\n",
       "      <th>is_sarcastic</th>\n",
       "      <th>cleaned_headline</th>\n",
       "    </tr>\n",
       "  </thead>\n",
       "  <tbody>\n",
       "    <tr>\n",
       "      <th>0</th>\n",
       "      <td>1</td>\n",
       "      <td>thirtysomething scientists unveil doomsday clo...</td>\n",
       "    </tr>\n",
       "    <tr>\n",
       "      <th>1</th>\n",
       "      <td>0</td>\n",
       "      <td>dem rep. totally nails congress falling short ...</td>\n",
       "    </tr>\n",
       "    <tr>\n",
       "      <th>2</th>\n",
       "      <td>0</td>\n",
       "      <td>eat veggies: 9 deliciously different recipes</td>\n",
       "    </tr>\n",
       "    <tr>\n",
       "      <th>3</th>\n",
       "      <td>1</td>\n",
       "      <td>inclement weather prevents liar getting work</td>\n",
       "    </tr>\n",
       "    <tr>\n",
       "      <th>4</th>\n",
       "      <td>1</td>\n",
       "      <td>mother comes pretty close using word 'streamin...</td>\n",
       "    </tr>\n",
       "  </tbody>\n",
       "</table>\n",
       "</div>\n",
       "      <button class=\"colab-df-convert\" onclick=\"convertToInteractive('df-72601b5a-4068-4f1e-a89e-f1fe85e25966')\"\n",
       "              title=\"Convert this dataframe to an interactive table.\"\n",
       "              style=\"display:none;\">\n",
       "        \n",
       "  <svg xmlns=\"http://www.w3.org/2000/svg\" height=\"24px\"viewBox=\"0 0 24 24\"\n",
       "       width=\"24px\">\n",
       "    <path d=\"M0 0h24v24H0V0z\" fill=\"none\"/>\n",
       "    <path d=\"M18.56 5.44l.94 2.06.94-2.06 2.06-.94-2.06-.94-.94-2.06-.94 2.06-2.06.94zm-11 1L8.5 8.5l.94-2.06 2.06-.94-2.06-.94L8.5 2.5l-.94 2.06-2.06.94zm10 10l.94 2.06.94-2.06 2.06-.94-2.06-.94-.94-2.06-.94 2.06-2.06.94z\"/><path d=\"M17.41 7.96l-1.37-1.37c-.4-.4-.92-.59-1.43-.59-.52 0-1.04.2-1.43.59L10.3 9.45l-7.72 7.72c-.78.78-.78 2.05 0 2.83L4 21.41c.39.39.9.59 1.41.59.51 0 1.02-.2 1.41-.59l7.78-7.78 2.81-2.81c.8-.78.8-2.07 0-2.86zM5.41 20L4 18.59l7.72-7.72 1.47 1.35L5.41 20z\"/>\n",
       "  </svg>\n",
       "      </button>\n",
       "      \n",
       "  <style>\n",
       "    .colab-df-container {\n",
       "      display:flex;\n",
       "      flex-wrap:wrap;\n",
       "      gap: 12px;\n",
       "    }\n",
       "\n",
       "    .colab-df-convert {\n",
       "      background-color: #E8F0FE;\n",
       "      border: none;\n",
       "      border-radius: 50%;\n",
       "      cursor: pointer;\n",
       "      display: none;\n",
       "      fill: #1967D2;\n",
       "      height: 32px;\n",
       "      padding: 0 0 0 0;\n",
       "      width: 32px;\n",
       "    }\n",
       "\n",
       "    .colab-df-convert:hover {\n",
       "      background-color: #E2EBFA;\n",
       "      box-shadow: 0px 1px 2px rgba(60, 64, 67, 0.3), 0px 1px 3px 1px rgba(60, 64, 67, 0.15);\n",
       "      fill: #174EA6;\n",
       "    }\n",
       "\n",
       "    [theme=dark] .colab-df-convert {\n",
       "      background-color: #3B4455;\n",
       "      fill: #D2E3FC;\n",
       "    }\n",
       "\n",
       "    [theme=dark] .colab-df-convert:hover {\n",
       "      background-color: #434B5C;\n",
       "      box-shadow: 0px 1px 3px 1px rgba(0, 0, 0, 0.15);\n",
       "      filter: drop-shadow(0px 1px 2px rgba(0, 0, 0, 0.3));\n",
       "      fill: #FFFFFF;\n",
       "    }\n",
       "  </style>\n",
       "\n",
       "      <script>\n",
       "        const buttonEl =\n",
       "          document.querySelector('#df-72601b5a-4068-4f1e-a89e-f1fe85e25966 button.colab-df-convert');\n",
       "        buttonEl.style.display =\n",
       "          google.colab.kernel.accessAllowed ? 'block' : 'none';\n",
       "\n",
       "        async function convertToInteractive(key) {\n",
       "          const element = document.querySelector('#df-72601b5a-4068-4f1e-a89e-f1fe85e25966');\n",
       "          const dataTable =\n",
       "            await google.colab.kernel.invokeFunction('convertToInteractive',\n",
       "                                                     [key], {});\n",
       "          if (!dataTable) return;\n",
       "\n",
       "          const docLinkHtml = 'Like what you see? Visit the ' +\n",
       "            '<a target=\"_blank\" href=https://colab.research.google.com/notebooks/data_table.ipynb>data table notebook</a>'\n",
       "            + ' to learn more about interactive tables.';\n",
       "          element.innerHTML = '';\n",
       "          dataTable['output_type'] = 'display_data';\n",
       "          await google.colab.output.renderOutput(dataTable, element);\n",
       "          const docLink = document.createElement('div');\n",
       "          docLink.innerHTML = docLinkHtml;\n",
       "          element.appendChild(docLink);\n",
       "        }\n",
       "      </script>\n",
       "    </div>\n",
       "  </div>\n",
       "  "
      ],
      "text/plain": [
       "   is_sarcastic                                   cleaned_headline\n",
       "0             1  thirtysomething scientists unveil doomsday clo...\n",
       "1             0  dem rep. totally nails congress falling short ...\n",
       "2             0       eat veggies: 9 deliciously different recipes\n",
       "3             1       inclement weather prevents liar getting work\n",
       "4             1  mother comes pretty close using word 'streamin..."
      ]
     },
     "execution_count": 186,
     "metadata": {},
     "output_type": "execute_result"
    }
   ],
   "source": [
    "# The article_link column does not provide with any help for the information to build models.\n",
    "# since we already have the cleaned_headline we don't need headline column which is actually duplicate info\n",
    "\n",
    "data = data.drop(columns = ['article_link', 'headline' ], axis = 1)\n",
    "data['cleaned_headline'] = clean_headlines\n",
    "data.head()"
   ]
  },
  {
   "cell_type": "markdown",
   "metadata": {
    "id": "C8TA541DpaIH"
   },
   "source": [
    "## **3. Get length of each sentence**"
   ]
  },
  {
   "cell_type": "code",
   "execution_count": 187,
   "metadata": {
    "colab": {
     "base_uri": "https://localhost:8080/",
     "height": 206
    },
    "executionInfo": {
     "elapsed": 14,
     "status": "ok",
     "timestamp": 1668274140066,
     "user": {
      "displayName": "Naveen Kumar",
      "userId": "15460283466251187880"
     },
     "user_tz": -330
    },
    "id": "wIKzx2HQntr8",
    "outputId": "904fc0f2-48bb-437f-b970-57e747d7b9bc"
   },
   "outputs": [
    {
     "data": {
      "text/html": [
       "\n",
       "  <div id=\"df-80cf4a89-ba8c-40c1-930a-8883e5b485ef\">\n",
       "    <div class=\"colab-df-container\">\n",
       "      <div>\n",
       "<style scoped>\n",
       "    .dataframe tbody tr th:only-of-type {\n",
       "        vertical-align: middle;\n",
       "    }\n",
       "\n",
       "    .dataframe tbody tr th {\n",
       "        vertical-align: top;\n",
       "    }\n",
       "\n",
       "    .dataframe thead th {\n",
       "        text-align: right;\n",
       "    }\n",
       "</style>\n",
       "<table border=\"1\" class=\"dataframe\">\n",
       "  <thead>\n",
       "    <tr style=\"text-align: right;\">\n",
       "      <th></th>\n",
       "      <th>is_sarcastic</th>\n",
       "      <th>cleaned_headline</th>\n",
       "      <th>length</th>\n",
       "    </tr>\n",
       "  </thead>\n",
       "  <tbody>\n",
       "    <tr>\n",
       "      <th>0</th>\n",
       "      <td>1</td>\n",
       "      <td>thirtysomething scientists unveil doomsday clo...</td>\n",
       "      <td>58</td>\n",
       "    </tr>\n",
       "    <tr>\n",
       "      <th>1</th>\n",
       "      <td>0</td>\n",
       "      <td>dem rep. totally nails congress falling short ...</td>\n",
       "      <td>69</td>\n",
       "    </tr>\n",
       "    <tr>\n",
       "      <th>2</th>\n",
       "      <td>0</td>\n",
       "      <td>eat veggies: 9 deliciously different recipes</td>\n",
       "      <td>44</td>\n",
       "    </tr>\n",
       "    <tr>\n",
       "      <th>3</th>\n",
       "      <td>1</td>\n",
       "      <td>inclement weather prevents liar getting work</td>\n",
       "      <td>44</td>\n",
       "    </tr>\n",
       "    <tr>\n",
       "      <th>4</th>\n",
       "      <td>1</td>\n",
       "      <td>mother comes pretty close using word 'streamin...</td>\n",
       "      <td>58</td>\n",
       "    </tr>\n",
       "  </tbody>\n",
       "</table>\n",
       "</div>\n",
       "      <button class=\"colab-df-convert\" onclick=\"convertToInteractive('df-80cf4a89-ba8c-40c1-930a-8883e5b485ef')\"\n",
       "              title=\"Convert this dataframe to an interactive table.\"\n",
       "              style=\"display:none;\">\n",
       "        \n",
       "  <svg xmlns=\"http://www.w3.org/2000/svg\" height=\"24px\"viewBox=\"0 0 24 24\"\n",
       "       width=\"24px\">\n",
       "    <path d=\"M0 0h24v24H0V0z\" fill=\"none\"/>\n",
       "    <path d=\"M18.56 5.44l.94 2.06.94-2.06 2.06-.94-2.06-.94-.94-2.06-.94 2.06-2.06.94zm-11 1L8.5 8.5l.94-2.06 2.06-.94-2.06-.94L8.5 2.5l-.94 2.06-2.06.94zm10 10l.94 2.06.94-2.06 2.06-.94-2.06-.94-.94-2.06-.94 2.06-2.06.94z\"/><path d=\"M17.41 7.96l-1.37-1.37c-.4-.4-.92-.59-1.43-.59-.52 0-1.04.2-1.43.59L10.3 9.45l-7.72 7.72c-.78.78-.78 2.05 0 2.83L4 21.41c.39.39.9.59 1.41.59.51 0 1.02-.2 1.41-.59l7.78-7.78 2.81-2.81c.8-.78.8-2.07 0-2.86zM5.41 20L4 18.59l7.72-7.72 1.47 1.35L5.41 20z\"/>\n",
       "  </svg>\n",
       "      </button>\n",
       "      \n",
       "  <style>\n",
       "    .colab-df-container {\n",
       "      display:flex;\n",
       "      flex-wrap:wrap;\n",
       "      gap: 12px;\n",
       "    }\n",
       "\n",
       "    .colab-df-convert {\n",
       "      background-color: #E8F0FE;\n",
       "      border: none;\n",
       "      border-radius: 50%;\n",
       "      cursor: pointer;\n",
       "      display: none;\n",
       "      fill: #1967D2;\n",
       "      height: 32px;\n",
       "      padding: 0 0 0 0;\n",
       "      width: 32px;\n",
       "    }\n",
       "\n",
       "    .colab-df-convert:hover {\n",
       "      background-color: #E2EBFA;\n",
       "      box-shadow: 0px 1px 2px rgba(60, 64, 67, 0.3), 0px 1px 3px 1px rgba(60, 64, 67, 0.15);\n",
       "      fill: #174EA6;\n",
       "    }\n",
       "\n",
       "    [theme=dark] .colab-df-convert {\n",
       "      background-color: #3B4455;\n",
       "      fill: #D2E3FC;\n",
       "    }\n",
       "\n",
       "    [theme=dark] .colab-df-convert:hover {\n",
       "      background-color: #434B5C;\n",
       "      box-shadow: 0px 1px 3px 1px rgba(0, 0, 0, 0.15);\n",
       "      filter: drop-shadow(0px 1px 2px rgba(0, 0, 0, 0.3));\n",
       "      fill: #FFFFFF;\n",
       "    }\n",
       "  </style>\n",
       "\n",
       "      <script>\n",
       "        const buttonEl =\n",
       "          document.querySelector('#df-80cf4a89-ba8c-40c1-930a-8883e5b485ef button.colab-df-convert');\n",
       "        buttonEl.style.display =\n",
       "          google.colab.kernel.accessAllowed ? 'block' : 'none';\n",
       "\n",
       "        async function convertToInteractive(key) {\n",
       "          const element = document.querySelector('#df-80cf4a89-ba8c-40c1-930a-8883e5b485ef');\n",
       "          const dataTable =\n",
       "            await google.colab.kernel.invokeFunction('convertToInteractive',\n",
       "                                                     [key], {});\n",
       "          if (!dataTable) return;\n",
       "\n",
       "          const docLinkHtml = 'Like what you see? Visit the ' +\n",
       "            '<a target=\"_blank\" href=https://colab.research.google.com/notebooks/data_table.ipynb>data table notebook</a>'\n",
       "            + ' to learn more about interactive tables.';\n",
       "          element.innerHTML = '';\n",
       "          dataTable['output_type'] = 'display_data';\n",
       "          await google.colab.output.renderOutput(dataTable, element);\n",
       "          const docLink = document.createElement('div');\n",
       "          docLink.innerHTML = docLinkHtml;\n",
       "          element.appendChild(docLink);\n",
       "        }\n",
       "      </script>\n",
       "    </div>\n",
       "  </div>\n",
       "  "
      ],
      "text/plain": [
       "   is_sarcastic                                   cleaned_headline  length\n",
       "0             1  thirtysomething scientists unveil doomsday clo...      58\n",
       "1             0  dem rep. totally nails congress falling short ...      69\n",
       "2             0       eat veggies: 9 deliciously different recipes      44\n",
       "3             1       inclement weather prevents liar getting work      44\n",
       "4             1  mother comes pretty close using word 'streamin...      58"
      ]
     },
     "execution_count": 187,
     "metadata": {},
     "output_type": "execute_result"
    }
   ],
   "source": [
    "# Get length of each sentence.\n",
    "# Lets append a new column with the mention of length of each sentence against it\n",
    "data[\"length\"] = data[\"cleaned_headline\"].apply(len)\n",
    "data.head()"
   ]
  },
  {
   "cell_type": "markdown",
   "metadata": {
    "id": "jyFpcQOup_ty"
   },
   "source": [
    "## **4. Define parameters**"
   ]
  },
  {
   "cell_type": "code",
   "execution_count": 188,
   "metadata": {
    "colab": {
     "base_uri": "https://localhost:8080/"
    },
    "executionInfo": {
     "elapsed": 13,
     "status": "ok",
     "timestamp": 1668274140067,
     "user": {
      "displayName": "Naveen Kumar",
      "userId": "15460283466251187880"
     },
     "user_tz": -330
    },
    "id": "qFQHwbXVpcjX",
    "outputId": "c840c617-951a-4272-b441-76e4f2b124b2"
   },
   "outputs": [
    {
     "name": "stdout",
     "output_type": "stream",
     "text": [
      "737\n"
     ]
    }
   ],
   "source": [
    "# As different sentences are of different length, we need to pad the sequence \n",
    "# using max length\n",
    "maxlen = max([len(text) for text in data['cleaned_headline']])\n",
    "print(maxlen)"
   ]
  },
  {
   "cell_type": "code",
   "execution_count": 189,
   "metadata": {
    "executionInfo": {
     "elapsed": 10,
     "status": "ok",
     "timestamp": 1668274140068,
     "user": {
      "displayName": "Naveen Kumar",
      "userId": "15460283466251187880"
     },
     "user_tz": -330
    },
    "id": "imeyi_kEpcll"
   },
   "outputs": [],
   "source": [
    "# As the maximum length of the text is 737, we cannot take that big string for \n",
    "# model training. We will keep a  maximum length limit to 100.\n",
    "maxlen=100\n",
    "\n",
    "# Say, max features size we take as 10000\n",
    "max_features=10000\n",
    "embedding_size=300"
   ]
  },
  {
   "cell_type": "markdown",
   "metadata": {
    "id": "joiN9tgqqMrT"
   },
   "source": [
    "## **5. Get indices for words**"
   ]
  },
  {
   "cell_type": "code",
   "execution_count": 190,
   "metadata": {
    "executionInfo": {
     "elapsed": 582,
     "status": "ok",
     "timestamp": 1668274140640,
     "user": {
      "displayName": "Naveen Kumar",
      "userId": "15460283466251187880"
     },
     "user_tz": -330
    },
    "id": "T5nGAnLrpcn-"
   },
   "outputs": [],
   "source": [
    "#Creating a tokenizer\n",
    "tokenizer = Tokenizer(num_words=max_features, filters='!\"#$%&()*+.,-/:;=?@[\\]^_`{|}~\\t\\n')\n",
    "tokenizer.fit_on_texts(data['cleaned_headline'])"
   ]
  },
  {
   "cell_type": "markdown",
   "metadata": {
    "id": "KVKVq9gvsOV8"
   },
   "source": [
    "## **6. Create features and labels**"
   ]
  },
  {
   "cell_type": "code",
   "execution_count": 191,
   "metadata": {
    "colab": {
     "base_uri": "https://localhost:8080/"
    },
    "executionInfo": {
     "elapsed": 428,
     "status": "ok",
     "timestamp": 1668274141067,
     "user": {
      "displayName": "Naveen Kumar",
      "userId": "15460283466251187880"
     },
     "user_tz": -330
    },
    "id": "mvvzNf8YpcqJ",
    "outputId": "a16e0962-a57d-47fe-e82a-b61012c38a0c"
   },
   "outputs": [
    {
     "name": "stdout",
     "output_type": "stream",
     "text": [
      "CPU times: user 463 ms, sys: 1.8 ms, total: 465 ms\n",
      "Wall time: 466 ms\n"
     ]
    }
   ],
   "source": [
    "%%time\n",
    "\n",
    "X = tokenizer.texts_to_sequences(data['cleaned_headline'])\n",
    "X = pad_sequences(X, maxlen = maxlen)\n",
    "y = np.asarray(data['is_sarcastic'])"
   ]
  },
  {
   "cell_type": "code",
   "execution_count": 192,
   "metadata": {
    "colab": {
     "base_uri": "https://localhost:8080/"
    },
    "executionInfo": {
     "elapsed": 34,
     "status": "ok",
     "timestamp": 1668274141067,
     "user": {
      "displayName": "Naveen Kumar",
      "userId": "15460283466251187880"
     },
     "user_tz": -330
    },
    "id": "6ha74B05pcsf",
    "outputId": "e0726cd7-741c-4a47-d56c-9c12fe8f4420"
   },
   "outputs": [
    {
     "name": "stdout",
     "output_type": "stream",
     "text": [
      "Shape of X:  (28619, 100)\n",
      "Shape of y:  (28619,)\n"
     ]
    }
   ],
   "source": [
    "print(\"Shape of X: \",X.shape)\n",
    "print(\"Shape of y: \", y.shape)"
   ]
  },
  {
   "cell_type": "code",
   "execution_count": 193,
   "metadata": {
    "colab": {
     "base_uri": "https://localhost:8080/"
    },
    "executionInfo": {
     "elapsed": 32,
     "status": "ok",
     "timestamp": 1668274141068,
     "user": {
      "displayName": "Naveen Kumar",
      "userId": "15460283466251187880"
     },
     "user_tz": -330
    },
    "id": "COj6GL9usUHj",
    "outputId": "397f5999-47a6-4c32-fa65-9d6f8dde7199"
   },
   "outputs": [
    {
     "data": {
      "text/plain": [
       "array([   0,    0,    0,    0,    0,    0,    0,    0,    0,    0,    0,\n",
       "          0,    0,    0,    0,    0,    0,    0,    0,    0,    0,    0,\n",
       "          0,    0,    0,    0,    0,    0,    0,    0,    0,    0,    0,\n",
       "          0,    0,    0,    0,    0,    0,    0,    0,    0,    0,    0,\n",
       "          0,    0,    0,    0,    0,    0,    0,    0,    0,    0,    0,\n",
       "          0,    0,    0,    0,    0,    0,    0,    0,    0,    0,    0,\n",
       "          0,    0,    0,    0,    0,    0,    0,    0,    0,    0,    0,\n",
       "          0,    0,    0,    0,    0,    0,    0,    0,    0,    0,    0,\n",
       "          0,    0,    0,    0,    0,   54,  188, 6327, 2051,   21,  210,\n",
       "       5577], dtype=int32)"
      ]
     },
     "execution_count": 193,
     "metadata": {},
     "output_type": "execute_result"
    }
   ],
   "source": [
    "# Print one of the samples\n",
    "X[45]"
   ]
  },
  {
   "cell_type": "code",
   "execution_count": 194,
   "metadata": {
    "colab": {
     "base_uri": "https://localhost:8080/"
    },
    "executionInfo": {
     "elapsed": 30,
     "status": "ok",
     "timestamp": 1668274141068,
     "user": {
      "displayName": "Naveen Kumar",
      "userId": "15460283466251187880"
     },
     "user_tz": -330
    },
    "id": "pIaGOV8rsW1e",
    "outputId": "4227bddd-e1c7-4595-967b-387c0b5bd23b"
   },
   "outputs": [
    {
     "data": {
      "text/plain": [
       "0"
      ]
     },
     "execution_count": 194,
     "metadata": {},
     "output_type": "execute_result"
    }
   ],
   "source": [
    "y[45]"
   ]
  },
  {
   "cell_type": "markdown",
   "metadata": {
    "id": "5OM1UfXHsbKK"
   },
   "source": [
    "## **7. Get vocabulary size**"
   ]
  },
  {
   "cell_type": "code",
   "execution_count": 195,
   "metadata": {
    "colab": {
     "base_uri": "https://localhost:8080/"
    },
    "executionInfo": {
     "elapsed": 27,
     "status": "ok",
     "timestamp": 1668274141069,
     "user": {
      "displayName": "Naveen Kumar",
      "userId": "15460283466251187880"
     },
     "user_tz": -330
    },
    "id": "BeeBl2posYqQ",
    "outputId": "3b76c84c-9cca-48af-e016-4d5011a154bb"
   },
   "outputs": [
    {
     "data": {
      "text/plain": [
       "{'new': 1,\n",
       " 'trump': 2,\n",
       " 'man': 3,\n",
       " 'report': 4,\n",
       " 'one': 5,\n",
       " 'year': 6,\n",
       " 'day': 7,\n",
       " 'u': 8,\n",
       " 'area': 9,\n",
       " 'woman': 10,\n",
       " 's': 11,\n",
       " 'says': 12,\n",
       " 'donald': 13,\n",
       " 'time': 14,\n",
       " 'first': 15,\n",
       " 'like': 16,\n",
       " 'get': 17,\n",
       " 'old': 18,\n",
       " \"trump's\": 19,\n",
       " 'life': 20,\n",
       " 'people': 21,\n",
       " \"'\": 22,\n",
       " 'house': 23,\n",
       " 'still': 24,\n",
       " 'obama': 25,\n",
       " 'white': 26,\n",
       " 'back': 27,\n",
       " 'make': 28,\n",
       " 'women': 29,\n",
       " '5': 30,\n",
       " 'clinton': 31,\n",
       " 'could': 32,\n",
       " 'world': 33,\n",
       " 'way': 34,\n",
       " 'americans': 35,\n",
       " 'family': 36,\n",
       " 'study': 37,\n",
       " 'would': 38,\n",
       " 'school': 39,\n",
       " 'gop': 40,\n",
       " 'black': 41,\n",
       " 'years': 42,\n",
       " 'bill': 43,\n",
       " 'finds': 44,\n",
       " 'really': 45,\n",
       " 'american': 46,\n",
       " 'best': 47,\n",
       " '3': 48,\n",
       " 'last': 49,\n",
       " 'know': 50,\n",
       " 'police': 51,\n",
       " 'nation': 52,\n",
       " \"can't\": 53,\n",
       " '10': 54,\n",
       " 'going': 55,\n",
       " 'watch': 56,\n",
       " 'state': 57,\n",
       " 'death': 58,\n",
       " 'video': 59,\n",
       " 'home': 60,\n",
       " 'president': 61,\n",
       " 'good': 62,\n",
       " 'every': 63,\n",
       " 'say': 64,\n",
       " 'show': 65,\n",
       " 'campaign': 66,\n",
       " \"'the\": 67,\n",
       " 'health': 68,\n",
       " 'big': 69,\n",
       " 'things': 70,\n",
       " 'mom': 71,\n",
       " '2': 72,\n",
       " 'getting': 73,\n",
       " 'may': 74,\n",
       " '000': 75,\n",
       " 'right': 76,\n",
       " 'hillary': 77,\n",
       " 'love': 78,\n",
       " 'party': 79,\n",
       " 'work': 80,\n",
       " 'gets': 81,\n",
       " 'self': 82,\n",
       " 'need': 83,\n",
       " 'high': 84,\n",
       " 'little': 85,\n",
       " 'parents': 86,\n",
       " 'never': 87,\n",
       " 'take': 88,\n",
       " 'kids': 89,\n",
       " 'court': 90,\n",
       " 'makes': 91,\n",
       " 'john': 92,\n",
       " 'child': 93,\n",
       " 'change': 94,\n",
       " 'news': 95,\n",
       " 'calls': 96,\n",
       " 'dead': 97,\n",
       " 'stop': 98,\n",
       " 'look': 99,\n",
       " \"he's\": 100,\n",
       " 'want': 101,\n",
       " 'election': 102,\n",
       " 'next': 103,\n",
       " 'gay': 104,\n",
       " 'local': 105,\n",
       " 'even': 106,\n",
       " '4': 107,\n",
       " 'see': 108,\n",
       " 'go': 109,\n",
       " 'around': 110,\n",
       " 'america': 111,\n",
       " 'real': 112,\n",
       " 'takes': 113,\n",
       " 'war': 114,\n",
       " '7': 115,\n",
       " \"here's\": 116,\n",
       " 'baby': 117,\n",
       " 'sex': 118,\n",
       " \"nation's\": 119,\n",
       " 'million': 120,\n",
       " 'plan': 121,\n",
       " 'bush': 122,\n",
       " 'made': 123,\n",
       " 'two': 124,\n",
       " 'another': 125,\n",
       " '6': 126,\n",
       " 'guy': 127,\n",
       " 'college': 128,\n",
       " 'dog': 129,\n",
       " 'office': 130,\n",
       " 'announces': 131,\n",
       " 'dad': 132,\n",
       " 'ever': 133,\n",
       " 'finally': 134,\n",
       " 'debate': 135,\n",
       " 'got': 136,\n",
       " 'week': 137,\n",
       " 'wants': 138,\n",
       " 'long': 139,\n",
       " 'help': 140,\n",
       " 'much': 141,\n",
       " 'job': 142,\n",
       " '1': 143,\n",
       " 'thing': 144,\n",
       " 'reveals': 145,\n",
       " 'gun': 146,\n",
       " 'night': 147,\n",
       " 'care': 148,\n",
       " 'actually': 149,\n",
       " 'couple': 150,\n",
       " 'congress': 151,\n",
       " 'live': 152,\n",
       " 'us': 153,\n",
       " 'north': 154,\n",
       " 'sexual': 155,\n",
       " 'trying': 156,\n",
       " 'money': 157,\n",
       " 'national': 158,\n",
       " 'shows': 159,\n",
       " 'god': 160,\n",
       " \"man's\": 161,\n",
       " 'climate': 162,\n",
       " 'senate': 163,\n",
       " 'better': 164,\n",
       " 'star': 165,\n",
       " 'face': 166,\n",
       " 'without': 167,\n",
       " '8': 168,\n",
       " 'away': 169,\n",
       " 'food': 170,\n",
       " 'everyone': 171,\n",
       " '9': 172,\n",
       " 'game': 173,\n",
       " 'season': 174,\n",
       " 'enough': 175,\n",
       " 'facebook': 176,\n",
       " 'anti': 177,\n",
       " 'give': 178,\n",
       " 'top': 179,\n",
       " '20': 180,\n",
       " 'media': 181,\n",
       " 'paul': 182,\n",
       " 'making': 183,\n",
       " 'law': 184,\n",
       " 'bad': 185,\n",
       " 'teen': 186,\n",
       " 'shooting': 187,\n",
       " 'ways': 188,\n",
       " 'york': 189,\n",
       " 'end': 190,\n",
       " 'supreme': 191,\n",
       " 'movie': 192,\n",
       " 'free': 193,\n",
       " 'entire': 194,\n",
       " 'men': 195,\n",
       " 'history': 196,\n",
       " 'students': 197,\n",
       " 'children': 198,\n",
       " 'pope': 199,\n",
       " 'government': 200,\n",
       " 'single': 201,\n",
       " 'introduces': 202,\n",
       " 'business': 203,\n",
       " 'tell': 204,\n",
       " 'part': 205,\n",
       " 'body': 206,\n",
       " 'attack': 207,\n",
       " 'fight': 208,\n",
       " 'already': 209,\n",
       " 'think': 210,\n",
       " 'city': 211,\n",
       " 'tv': 212,\n",
       " 'story': 213,\n",
       " 'friends': 214,\n",
       " 'son': 215,\n",
       " 'deal': 216,\n",
       " 'fire': 217,\n",
       " 'friend': 218,\n",
       " 'releases': 219,\n",
       " 'great': 220,\n",
       " 'must': 221,\n",
       " 'sanders': 222,\n",
       " 'line': 223,\n",
       " 'find': 224,\n",
       " 'found': 225,\n",
       " '11': 226,\n",
       " 'book': 227,\n",
       " 'call': 228,\n",
       " 'pretty': 229,\n",
       " 'former': 230,\n",
       " 'film': 231,\n",
       " 'second': 232,\n",
       " 'up': 233,\n",
       " 'car': 234,\n",
       " 'company': 235,\n",
       " 'come': 236,\n",
       " 'unveils': 237,\n",
       " 'use': 238,\n",
       " 'public': 239,\n",
       " 'support': 240,\n",
       " 'speech': 241,\n",
       " 'social': 242,\n",
       " 'wedding': 243,\n",
       " 'power': 244,\n",
       " 'presidential': 245,\n",
       " 'middle': 246,\n",
       " 'keep': 247,\n",
       " 'behind': 248,\n",
       " 'run': 249,\n",
       " 'name': 250,\n",
       " 'case': 251,\n",
       " 'talk': 252,\n",
       " 'republican': 253,\n",
       " 'a': 254,\n",
       " 'open': 255,\n",
       " 'coming': 256,\n",
       " 'girl': 257,\n",
       " 'photos': 258,\n",
       " 'fans': 259,\n",
       " 'scientists': 260,\n",
       " 'room': 261,\n",
       " 'looking': 262,\n",
       " 'security': 263,\n",
       " 'human': 264,\n",
       " 'something': 265,\n",
       " 'morning': 266,\n",
       " 'full': 267,\n",
       " 'thinks': 268,\n",
       " 'fucking': 269,\n",
       " 'james': 270,\n",
       " 'voters': 271,\n",
       " 'rights': 272,\n",
       " 'asks': 273,\n",
       " 'republicans': 274,\n",
       " 'might': 275,\n",
       " 'claims': 276,\n",
       " 'future': 277,\n",
       " 'used': 278,\n",
       " 'christmas': 279,\n",
       " 'tax': 280,\n",
       " 'email': 281,\n",
       " 'ceo': 282,\n",
       " 'student': 283,\n",
       " 'win': 284,\n",
       " 'forced': 285,\n",
       " 'admits': 286,\n",
       " 'goes': 287,\n",
       " 'group': 288,\n",
       " 'secret': 289,\n",
       " 'vote': 290,\n",
       " '2016': 291,\n",
       " \"world's\": 292,\n",
       " 'michael': 293,\n",
       " 'marriage': 294,\n",
       " 'violence': 295,\n",
       " 'democrats': 296,\n",
       " 'poll': 297,\n",
       " 'killed': 298,\n",
       " 'team': 299,\n",
       " 'control': 300,\n",
       " 'ad': 301,\n",
       " 'country': 302,\n",
       " '12': 303,\n",
       " 'sure': 304,\n",
       " 'department': 305,\n",
       " 'plans': 306,\n",
       " 'female': 307,\n",
       " 'ban': 308,\n",
       " 'many': 309,\n",
       " 'bernie': 310,\n",
       " 'teacher': 311,\n",
       " 'inside': 312,\n",
       " 'person': 313,\n",
       " 'post': 314,\n",
       " 'wife': 315,\n",
       " 'ryan': 316,\n",
       " 'put': 317,\n",
       " 'always': 318,\n",
       " 'twitter': 319,\n",
       " 'super': 320,\n",
       " 'political': 321,\n",
       " 'water': 322,\n",
       " 'running': 323,\n",
       " 'hot': 324,\n",
       " 'dies': 325,\n",
       " 'meet': 326,\n",
       " 'father': 327,\n",
       " 'warns': 328,\n",
       " 'head': 329,\n",
       " 'photo': 330,\n",
       " '30': 331,\n",
       " 'eating': 332,\n",
       " 'boy': 333,\n",
       " 'reports': 334,\n",
       " 'minutes': 335,\n",
       " 'race': 336,\n",
       " 'judge': 337,\n",
       " 'red': 338,\n",
       " 'days': 339,\n",
       " 'music': 340,\n",
       " 'employee': 341,\n",
       " 'let': 342,\n",
       " 'perfect': 343,\n",
       " 'record': 344,\n",
       " 'tells': 345,\n",
       " 'taking': 346,\n",
       " 'candidate': 347,\n",
       " 'past': 348,\n",
       " 'everything': 349,\n",
       " 'art': 350,\n",
       " 'idea': 351,\n",
       " 'living': 352,\n",
       " 'list': 353,\n",
       " 'class': 354,\n",
       " 'summer': 355,\n",
       " 'month': 356,\n",
       " 'three': 357,\n",
       " 'missing': 358,\n",
       " 'wall': 359,\n",
       " '15': 360,\n",
       " 'working': 361,\n",
       " 'needs': 362,\n",
       " 'states': 363,\n",
       " 'secretary': 364,\n",
       " 'looks': 365,\n",
       " 'save': 366,\n",
       " 'thousands': 367,\n",
       " 'mother': 368,\n",
       " 'service': 369,\n",
       " 'town': 370,\n",
       " 'mike': 371,\n",
       " 'pay': 372,\n",
       " 'russia': 373,\n",
       " 'george': 374,\n",
       " 'times': 375,\n",
       " 'left': 376,\n",
       " 'shot': 377,\n",
       " 'thought': 378,\n",
       " 'california': 379,\n",
       " 'phone': 380,\n",
       " \"'i\": 381,\n",
       " 'heart': 382,\n",
       " 'start': 383,\n",
       " 'lives': 384,\n",
       " 'hours': 385,\n",
       " 'set': 386,\n",
       " 'place': 387,\n",
       " 'age': 388,\n",
       " 'wrong': 389,\n",
       " 'gives': 390,\n",
       " 'comes': 391,\n",
       " 'together': 392,\n",
       " 'cruz': 393,\n",
       " 'meeting': 394,\n",
       " 'shit': 395,\n",
       " 'ready': 396,\n",
       " 'officials': 397,\n",
       " 'justice': 398,\n",
       " 'ice': 399,\n",
       " 'cancer': 400,\n",
       " 'believe': 401,\n",
       " 'obamacare': 402,\n",
       " 'young': 403,\n",
       " 'probably': 404,\n",
       " 'texas': 405,\n",
       " 'someone': 406,\n",
       " 'talks': 407,\n",
       " 'wearing': 408,\n",
       " 'half': 409,\n",
       " 'breaking': 410,\n",
       " '50': 411,\n",
       " 'giving': 412,\n",
       " 'street': 413,\n",
       " 'kill': 414,\n",
       " 'lost': 415,\n",
       " 'yet': 416,\n",
       " 'ex': 417,\n",
       " 'king': 418,\n",
       " 'chief': 419,\n",
       " 'korea': 420,\n",
       " 'watching': 421,\n",
       " 'kim': 422,\n",
       " 'small': 423,\n",
       " 'drug': 424,\n",
       " 'air': 425,\n",
       " 'owner': 426,\n",
       " 'prison': 427,\n",
       " \"women's\": 428,\n",
       " 'iran': 429,\n",
       " 'daughter': 430,\n",
       " 'leave': 431,\n",
       " 'isis': 432,\n",
       " 'restaurant': 433,\n",
       " 'fbi': 434,\n",
       " 'today': 435,\n",
       " 'dream': 436,\n",
       " 'fan': 437,\n",
       " 'feel': 438,\n",
       " 'ted': 439,\n",
       " 'crisis': 440,\n",
       " 'sleep': 441,\n",
       " 'letter': 442,\n",
       " 'mark': 443,\n",
       " 'word': 444,\n",
       " 'cat': 445,\n",
       " \"i'm\": 446,\n",
       " 'wins': 447,\n",
       " 'administration': 448,\n",
       " 'south': 449,\n",
       " 'director': 450,\n",
       " 'biden': 451,\n",
       " 'hard': 452,\n",
       " 'earth': 453,\n",
       " 'hour': 454,\n",
       " 'tips': 455,\n",
       " 'education': 456,\n",
       " 'washington': 457,\n",
       " 'third': 458,\n",
       " 'military': 459,\n",
       " 'personal': 460,\n",
       " 'community': 461,\n",
       " 'nothing': 462,\n",
       " 'attacks': 463,\n",
       " 'outside': 464,\n",
       " 'using': 465,\n",
       " 'less': 466,\n",
       " 'chris': 467,\n",
       " 'talking': 468,\n",
       " 'democratic': 469,\n",
       " 'bar': 470,\n",
       " 'system': 471,\n",
       " 'rock': 472,\n",
       " 'internet': 473,\n",
       " 'questions': 474,\n",
       " 'francis': 475,\n",
       " 'nuclear': 476,\n",
       " 'months': 477,\n",
       " 'leaves': 478,\n",
       " 'kind': 479,\n",
       " 'federal': 480,\n",
       " 'romney': 481,\n",
       " 'move': 482,\n",
       " 'well': 483,\n",
       " 'following': 484,\n",
       " 'percent': 485,\n",
       " 'online': 486,\n",
       " 'latest': 487,\n",
       " 'majority': 488,\n",
       " 'order': 489,\n",
       " 'birthday': 490,\n",
       " 'issues': 491,\n",
       " 'march': 492,\n",
       " 'tweets': 493,\n",
       " 'girlfriend': 494,\n",
       " 'fun': 495,\n",
       " 'fox': 496,\n",
       " 't': 497,\n",
       " \"what's\": 498,\n",
       " 'assault': 499,\n",
       " 'since': 500,\n",
       " 'excited': 501,\n",
       " 'gift': 502,\n",
       " 'investigation': 503,\n",
       " 'knows': 504,\n",
       " 'congressman': 505,\n",
       " 'abortion': 506,\n",
       " 'lot': 507,\n",
       " 'florida': 508,\n",
       " 'series': 509,\n",
       " 'in': 510,\n",
       " 'buy': 511,\n",
       " 'store': 512,\n",
       " 'straight': 513,\n",
       " 'minute': 514,\n",
       " 'rules': 515,\n",
       " 'guide': 516,\n",
       " 'hit': 517,\n",
       " 'read': 518,\n",
       " 'special': 519,\n",
       " 'cover': 520,\n",
       " 'mueller': 521,\n",
       " 'beautiful': 522,\n",
       " 'holiday': 523,\n",
       " 'waiting': 524,\n",
       " 'happy': 525,\n",
       " 'spends': 526,\n",
       " '100': 527,\n",
       " 'stephen': 528,\n",
       " 'called': 529,\n",
       " 'reason': 530,\n",
       " 'huge': 531,\n",
       " 'travel': 532,\n",
       " 'break': 533,\n",
       " 'muslim': 534,\n",
       " 'trip': 535,\n",
       " 'ask': 536,\n",
       " 'problem': 537,\n",
       " 'offers': 538,\n",
       " 'kid': 539,\n",
       " 'leaders': 540,\n",
       " 'different': 541,\n",
       " 'told': 542,\n",
       " 'whole': 543,\n",
       " 'visit': 544,\n",
       " 'russian': 545,\n",
       " 'scott': 546,\n",
       " 'hollywood': 547,\n",
       " 'front': 548,\n",
       " 'favorite': 549,\n",
       " 'rise': 550,\n",
       " 'relationship': 551,\n",
       " 'worried': 552,\n",
       " 'hair': 553,\n",
       " 'david': 554,\n",
       " 'cop': 555,\n",
       " 'non': 556,\n",
       " 'chinese': 557,\n",
       " 'millions': 558,\n",
       " 'thinking': 559,\n",
       " 'trailer': 560,\n",
       " '2015': 561,\n",
       " 'box': 562,\n",
       " 'celebrates': 563,\n",
       " 'response': 564,\n",
       " 'girls': 565,\n",
       " 'anything': 566,\n",
       " 'play': 567,\n",
       " 'date': 568,\n",
       " 'immigration': 569,\n",
       " 'hate': 570,\n",
       " 'protest': 571,\n",
       " 'al': 572,\n",
       " \"america's\": 573,\n",
       " 'late': 574,\n",
       " 'early': 575,\n",
       " 'career': 576,\n",
       " 'die': 577,\n",
       " \"obama's\": 578,\n",
       " 'taylor': 579,\n",
       " 'union': 580,\n",
       " 'stars': 581,\n",
       " 'out': 582,\n",
       " 'china': 583,\n",
       " 'drunk': 584,\n",
       " 'fall': 585,\n",
       " 'birth': 586,\n",
       " 'struggling': 587,\n",
       " 'reasons': 588,\n",
       " 'billion': 589,\n",
       " 'united': 590,\n",
       " 'message': 591,\n",
       " 'massive': 592,\n",
       " 'weekend': 593,\n",
       " '40': 594,\n",
       " 'candidates': 595,\n",
       " 'politics': 596,\n",
       " 'accused': 597,\n",
       " 'opens': 598,\n",
       " 'become': 599,\n",
       " 'least': 600,\n",
       " 'starting': 601,\n",
       " 'killing': 602,\n",
       " 'huffpost': 603,\n",
       " 'senator': 604,\n",
       " 'bring': 605,\n",
       " 'hands': 606,\n",
       " 'mass': 607,\n",
       " 'feels': 608,\n",
       " 'interview': 609,\n",
       " 'vows': 610,\n",
       " 'hope': 611,\n",
       " 'victims': 612,\n",
       " 'experts': 613,\n",
       " 'light': 614,\n",
       " 'moment': 615,\n",
       " 'discover': 616,\n",
       " 'turn': 617,\n",
       " 'returns': 618,\n",
       " 'leader': 619,\n",
       " 'words': 620,\n",
       " 'pence': 621,\n",
       " 'point': 622,\n",
       " 'c': 623,\n",
       " 'jimmy': 624,\n",
       " 'clearly': 625,\n",
       " 'turns': 626,\n",
       " 'far': 627,\n",
       " 'driving': 628,\n",
       " 'center': 629,\n",
       " 'dating': 630,\n",
       " 'key': 631,\n",
       " 'employees': 632,\n",
       " 'sports': 633,\n",
       " 'policy': 634,\n",
       " 'lessons': 635,\n",
       " 'tom': 636,\n",
       " 'sick': 637,\n",
       " 'wishes': 638,\n",
       " 'apple': 639,\n",
       " 'conversation': 640,\n",
       " 'host': 641,\n",
       " 'sign': 642,\n",
       " 'whether': 643,\n",
       " \"they're\": 644,\n",
       " 'completely': 645,\n",
       " 'murder': 646,\n",
       " 'fashion': 647,\n",
       " 'adds': 648,\n",
       " 'adorable': 649,\n",
       " 'totally': 650,\n",
       " 'learned': 651,\n",
       " 'signs': 652,\n",
       " 'hoping': 653,\n",
       " 'prince': 654,\n",
       " 'fuck': 655,\n",
       " 'role': 656,\n",
       " 'stage': 657,\n",
       " 'all': 658,\n",
       " 'j': 659,\n",
       " 'oil': 660,\n",
       " 'powerful': 661,\n",
       " 'k': 662,\n",
       " 'breaks': 663,\n",
       " 'abuse': 664,\n",
       " 'song': 665,\n",
       " 'across': 666,\n",
       " 'reality': 667,\n",
       " 'moving': 668,\n",
       " 'decision': 669,\n",
       " 'global': 670,\n",
       " 'keeps': 671,\n",
       " 'experience': 672,\n",
       " 'seen': 673,\n",
       " 'syrian': 674,\n",
       " 'announce': 675,\n",
       " 'true': 676,\n",
       " 'risk': 677,\n",
       " 'iraq': 678,\n",
       " 'joe': 679,\n",
       " 'bus': 680,\n",
       " 'begins': 681,\n",
       " 'jr': 682,\n",
       " 'syria': 683,\n",
       " 'hand': 684,\n",
       " 'puts': 685,\n",
       " 'dance': 686,\n",
       " '13': 687,\n",
       " 'final': 688,\n",
       " 'check': 689,\n",
       " 'cops': 690,\n",
       " 'dinner': 691,\n",
       " 'stand': 692,\n",
       " 'apartment': 693,\n",
       " 'cut': 694,\n",
       " 'almost': 695,\n",
       " 'playing': 696,\n",
       " 'names': 697,\n",
       " 'coffee': 698,\n",
       " 'weird': 699,\n",
       " 'longer': 700,\n",
       " 'hurricane': 701,\n",
       " 'schools': 702,\n",
       " 'kills': 703,\n",
       " \"there's\": 704,\n",
       " 'lose': 705,\n",
       " 'amazon': 706,\n",
       " 'awards': 707,\n",
       " 'on': 708,\n",
       " 'un': 709,\n",
       " 'low': 710,\n",
       " 'press': 711,\n",
       " 'robert': 712,\n",
       " 'to': 713,\n",
       " 'mind': 714,\n",
       " 'number': 715,\n",
       " 'lead': 716,\n",
       " 'west': 717,\n",
       " 'worth': 718,\n",
       " 'anniversary': 719,\n",
       " 'surprise': 720,\n",
       " 'oscar': 721,\n",
       " 'feeling': 722,\n",
       " 'anyone': 723,\n",
       " 'crash': 724,\n",
       " 'mental': 725,\n",
       " 'trans': 726,\n",
       " 'test': 727,\n",
       " 'lgbt': 728,\n",
       " 'worst': 729,\n",
       " 'band': 730,\n",
       " 'hall': 731,\n",
       " 'space': 732,\n",
       " 'return': 733,\n",
       " 'official': 734,\n",
       " 'audience': 735,\n",
       " 'queer': 736,\n",
       " 'shop': 737,\n",
       " 'hits': 738,\n",
       " 'demands': 739,\n",
       " 'oscars': 740,\n",
       " 'data': 741,\n",
       " 'd': 742,\n",
       " 'workers': 743,\n",
       " 'university': 744,\n",
       " 'iowa': 745,\n",
       " 'side': 746,\n",
       " 'apologizes': 747,\n",
       " 'road': 748,\n",
       " 'cool': 749,\n",
       " 'industry': 750,\n",
       " 'suspect': 751,\n",
       " 'planned': 752,\n",
       " 'plane': 753,\n",
       " 'nfl': 754,\n",
       " 'evidence': 755,\n",
       " 'steve': 756,\n",
       " 'off': 757,\n",
       " 'eat': 758,\n",
       " 'program': 759,\n",
       " 'door': 760,\n",
       " 'table': 761,\n",
       " 'governor': 762,\n",
       " 'remember': 763,\n",
       " 'try': 764,\n",
       " 'important': 765,\n",
       " 'chance': 766,\n",
       " 'transgender': 767,\n",
       " 'defense': 768,\n",
       " 'reportedly': 769,\n",
       " 'urges': 770,\n",
       " 'near': 771,\n",
       " 'church': 772,\n",
       " 'chicago': 773,\n",
       " 'halloween': 774,\n",
       " 'users': 775,\n",
       " 'possible': 776,\n",
       " 'general': 777,\n",
       " 'doctor': 778,\n",
       " 'and': 779,\n",
       " '2014': 780,\n",
       " 'hear': 781,\n",
       " 'style': 782,\n",
       " 'suicide': 783,\n",
       " 'spot': 784,\n",
       " 'supporters': 785,\n",
       " 'five': 786,\n",
       " 'rubio': 787,\n",
       " 'reveal': 788,\n",
       " 'kardashian': 789,\n",
       " 'advice': 790,\n",
       " 'coworker': 791,\n",
       " 'given': 792,\n",
       " 'voter': 793,\n",
       " 'brings': 794,\n",
       " 'picture': 795,\n",
       " 'dying': 796,\n",
       " 'success': 797,\n",
       " 'blood': 798,\n",
       " 'you': 799,\n",
       " 'executive': 800,\n",
       " 'it': 801,\n",
       " 'finding': 802,\n",
       " 'tour': 803,\n",
       " 'biggest': 804,\n",
       " '2017': 805,\n",
       " 'allegations': 806,\n",
       " 'accidentally': 807,\n",
       " 'easy': 808,\n",
       " 'boys': 809,\n",
       " 'football': 810,\n",
       " 'protesters': 811,\n",
       " 'bathroom': 812,\n",
       " 'fighting': 813,\n",
       " 'demand': 814,\n",
       " 'michelle': 815,\n",
       " 'peace': 816,\n",
       " 'push': 817,\n",
       " 'reform': 818,\n",
       " 'paris': 819,\n",
       " 'close': 820,\n",
       " 'avoid': 821,\n",
       " 'elizabeth': 822,\n",
       " 'israel': 823,\n",
       " 'homeless': 824,\n",
       " 'poor': 825,\n",
       " 'fear': 826,\n",
       " 'cnn': 827,\n",
       " 'quietly': 828,\n",
       " 'reminds': 829,\n",
       " 'teens': 830,\n",
       " 'nyc': 831,\n",
       " 'address': 832,\n",
       " 'learn': 833,\n",
       " 'board': 834,\n",
       " 'bowl': 835,\n",
       " 'uses': 836,\n",
       " 'apparently': 837,\n",
       " 'building': 838,\n",
       " 'act': 839,\n",
       " 'staff': 840,\n",
       " 'rest': 841,\n",
       " 'pro': 842,\n",
       " 'major': 843,\n",
       " 'carolina': 844,\n",
       " 'train': 845,\n",
       " 'force': 846,\n",
       " 'voice': 847,\n",
       " 'pregnant': 848,\n",
       " 'weight': 849,\n",
       " 'officer': 850,\n",
       " 'suggests': 851,\n",
       " 'walking': 852,\n",
       " 'google': 853,\n",
       " 'members': 854,\n",
       " 'rally': 855,\n",
       " 'economy': 856,\n",
       " 'ideas': 857,\n",
       " 'lets': 858,\n",
       " 'died': 859,\n",
       " 'celebrate': 860,\n",
       " 'card': 861,\n",
       " 'website': 862,\n",
       " 'park': 863,\n",
       " 'ben': 864,\n",
       " 'performance': 865,\n",
       " 'prevent': 866,\n",
       " 'williams': 867,\n",
       " 'moore': 868,\n",
       " 'moms': 869,\n",
       " '18': 870,\n",
       " 'green': 871,\n",
       " 'ferguson': 872,\n",
       " 'saudi': 873,\n",
       " 'asking': 874,\n",
       " 'artist': 875,\n",
       " 'leading': 876,\n",
       " 'pick': 877,\n",
       " 'passes': 878,\n",
       " 'opening': 879,\n",
       " 'said': 880,\n",
       " 'christian': 881,\n",
       " 'album': 882,\n",
       " 'happens': 883,\n",
       " 'netflix': 884,\n",
       " 'culture': 885,\n",
       " 'magazine': 886,\n",
       " 'throws': 887,\n",
       " 'leads': 888,\n",
       " 'eyes': 889,\n",
       " 'humans': 890,\n",
       " 'chicken': 891,\n",
       " 'beauty': 892,\n",
       " 'crime': 893,\n",
       " 'recalls': 894,\n",
       " 'energy': 895,\n",
       " 'voting': 896,\n",
       " 'question': 897,\n",
       " 'episode': 898,\n",
       " 'swift': 899,\n",
       " 'private': 900,\n",
       " 'racist': 901,\n",
       " 'shares': 902,\n",
       " 'learning': 903,\n",
       " 'amazing': 904,\n",
       " 'grandma': 905,\n",
       " 'older': 906,\n",
       " 'families': 907,\n",
       " 'harassment': 908,\n",
       " 'driver': 909,\n",
       " 'perfectly': 910,\n",
       " '14': 911,\n",
       " 'receives': 912,\n",
       " 'problems': 913,\n",
       " 'desperate': 914,\n",
       " 'wait': 915,\n",
       " '25': 916,\n",
       " 'planet': 917,\n",
       " 'sean': 918,\n",
       " 'vacation': 919,\n",
       " 'loses': 920,\n",
       " 'telling': 921,\n",
       " 'proud': 922,\n",
       " 'jeff': 923,\n",
       " 'simple': 924,\n",
       " 'reading': 925,\n",
       " 'jobs': 926,\n",
       " 'likely': 927,\n",
       " 'holding': 928,\n",
       " \"woman's\": 929,\n",
       " 'healthy': 930,\n",
       " 'emotional': 931,\n",
       " '17': 932,\n",
       " 'went': 933,\n",
       " 'toward': 934,\n",
       " 'kerry': 935,\n",
       " 'hospital': 936,\n",
       " 'fails': 937,\n",
       " 'mayor': 938,\n",
       " 'explains': 939,\n",
       " 'pizza': 940,\n",
       " 'realizes': 941,\n",
       " 'queen': 942,\n",
       " 'leaving': 943,\n",
       " 'hopes': 944,\n",
       " 'results': 945,\n",
       " 'epa': 946,\n",
       " 'short': 947,\n",
       " 'ebola': 948,\n",
       " 'of': 949,\n",
       " 'shirt': 950,\n",
       " \"we're\": 951,\n",
       " 'flight': 952,\n",
       " 'onion': 953,\n",
       " 'husband': 954,\n",
       " 'slams': 955,\n",
       " 'character': 956,\n",
       " 'lgbtq': 957,\n",
       " \"year's\": 958,\n",
       " 'fast': 959,\n",
       " 'sound': 960,\n",
       " 'boss': 961,\n",
       " 'review': 962,\n",
       " 'budget': 963,\n",
       " \"that's\": 964,\n",
       " 'dozens': 965,\n",
       " 'eye': 966,\n",
       " 'gave': 967,\n",
       " 'spring': 968,\n",
       " 'spend': 969,\n",
       " 'hilarious': 970,\n",
       " 'residents': 971,\n",
       " \"mother's\": 972,\n",
       " 'battle': 973,\n",
       " 'ago': 974,\n",
       " 'despite': 975,\n",
       " 'spending': 976,\n",
       " 'happened': 977,\n",
       " 'no': 978,\n",
       " 'male': 979,\n",
       " 'reporter': 980,\n",
       " 'thanksgiving': 981,\n",
       " 'forward': 982,\n",
       " 'colbert': 983,\n",
       " 'responds': 984,\n",
       " 'search': 985,\n",
       " 'kelly': 986,\n",
       " 'airport': 987,\n",
       " 'crowd': 988,\n",
       " 'arrested': 989,\n",
       " 'movies': 990,\n",
       " 'wondering': 991,\n",
       " 'documentary': 992,\n",
       " \"let's\": 993,\n",
       " 'ahead': 994,\n",
       " 'legal': 995,\n",
       " 'action': 996,\n",
       " 'steps': 997,\n",
       " 'hearing': 998,\n",
       " 'amid': 999,\n",
       " 'martin': 1000,\n",
       " ...}"
      ]
     },
     "execution_count": 195,
     "metadata": {},
     "output_type": "execute_result"
    }
   ],
   "source": [
    "tokenizer.word_index"
   ]
  },
  {
   "cell_type": "code",
   "execution_count": 196,
   "metadata": {
    "executionInfo": {
     "elapsed": 24,
     "status": "ok",
     "timestamp": 1668274141069,
     "user": {
      "displayName": "Naveen Kumar",
      "userId": "15460283466251187880"
     },
     "user_tz": -330
    },
    "id": "2SHryE6zselw"
   },
   "outputs": [],
   "source": [
    "# Get vocabulary size\n",
    "# as there is an no word at 0th index, we need to add 1 to the vocab size \n",
    "vocab_size = len(tokenizer.word_index) + 1"
   ]
  },
  {
   "cell_type": "markdown",
   "metadata": {
    "id": "zyb1Tf7ytMja"
   },
   "source": [
    "## **8. Create a weight matrix using GloVe embeddings**"
   ]
  },
  {
   "cell_type": "code",
   "execution_count": 199,
   "metadata": {
    "colab": {
     "base_uri": "https://localhost:8080/"
    },
    "executionInfo": {
     "elapsed": 34197,
     "status": "ok",
     "timestamp": 1668274175670,
     "user": {
      "displayName": "Naveen Kumar",
      "userId": "15460283466251187880"
     },
     "user_tz": -330
    },
    "id": "vlcP2Bzau6Cu",
    "outputId": "b227867a-b5ac-40a3-9d60-1d798c109d2d"
   },
   "outputs": [
    {
     "name": "stdout",
     "output_type": "stream",
     "text": [
      "CPU times: user 31.3 s, sys: 1.88 s, total: 33.2 s\n",
      "Wall time: 34.3 s\n"
     ]
    }
   ],
   "source": [
    "%%time\n",
    "\n",
    "embed_file = 'glove.6B.300d.txt'\n",
    "\n",
    "embeddings = {}\n",
    "for test in open(embed_file):\n",
    "    word = test.split(\" \")[0]\n",
    "    embed = test.split(\" \")[1:]\n",
    "    embed = np.asarray(embed, dtype='float32')\n",
    "    embeddings[word] = embed"
   ]
  },
  {
   "cell_type": "code",
   "execution_count": 200,
   "metadata": {
    "colab": {
     "base_uri": "https://localhost:8080/"
    },
    "executionInfo": {
     "elapsed": 25,
     "status": "ok",
     "timestamp": 1668274175671,
     "user": {
      "displayName": "Naveen Kumar",
      "userId": "15460283466251187880"
     },
     "user_tz": -330
    },
    "id": "esbcK8beu29I",
    "outputId": "350dbf6f-211c-4419-f4db-79c5dd421237"
   },
   "outputs": [
    {
     "name": "stdout",
     "output_type": "stream",
     "text": [
      "CPU times: user 112 ms, sys: 148 ms, total: 260 ms\n",
      "Wall time: 294 ms\n"
     ]
    }
   ],
   "source": [
    "%%time\n",
    "\n",
    "embed_matrix = np.zeros((vocab_size, 300))\n",
    "\n",
    "for word, counter in tokenizer.word_index.items():\n",
    "    embed_vector = embeddings.get(word)\n",
    "    if embed_vector is not None:\n",
    "        embed_matrix[counter] = embed_vector"
   ]
  },
  {
   "cell_type": "markdown",
   "metadata": {
    "id": "XGU09FbrwmPp"
   },
   "source": [
    "## **9. Define and compile a Bidirectional LSTM model.**"
   ]
  },
  {
   "cell_type": "code",
   "execution_count": 201,
   "metadata": {
    "executionInfo": {
     "elapsed": 5,
     "status": "ok",
     "timestamp": 1668274176266,
     "user": {
      "displayName": "Naveen Kumar",
      "userId": "15460283466251187880"
     },
     "user_tz": -330
    },
    "id": "TW4FXclXwu6S"
   },
   "outputs": [],
   "source": [
    "X_train, X_test, y_train, y_test = train_test_split(X,y, random_state=2,test_size = 0.2)"
   ]
  },
  {
   "cell_type": "code",
   "execution_count": 202,
   "metadata": {
    "colab": {
     "base_uri": "https://localhost:8080/"
    },
    "executionInfo": {
     "elapsed": 1508,
     "status": "ok",
     "timestamp": 1668274177770,
     "user": {
      "displayName": "Naveen Kumar",
      "userId": "15460283466251187880"
     },
     "user_tz": -330
    },
    "id": "j7z5M1t-u0gT",
    "outputId": "8829f332-810a-4717-9aff-588b6743eea9"
   },
   "outputs": [
    {
     "name": "stdout",
     "output_type": "stream",
     "text": [
      "Model: \"sequential_8\"\n",
      "_________________________________________________________________\n",
      " Layer (type)                Output Shape              Param #   \n",
      "=================================================================\n",
      " embedding_8 (Embedding)     (None, 100, 300)          9246300   \n",
      "                                                                 \n",
      " bidirectional_1 (Bidirectio  (None, 100, 1024)        3330048   \n",
      " nal)                                                            \n",
      "                                                                 \n",
      " dropout_5 (Dropout)         (None, 100, 1024)         0         \n",
      "                                                                 \n",
      " dense_11 (Dense)            (None, 100, 100)          102500    \n",
      "                                                                 \n",
      " flatten_6 (Flatten)         (None, 10000)             0         \n",
      "                                                                 \n",
      " dense_12 (Dense)            (None, 2)                 20002     \n",
      "                                                                 \n",
      "=================================================================\n",
      "Total params: 12,698,850\n",
      "Trainable params: 12,698,850\n",
      "Non-trainable params: 0\n",
      "_________________________________________________________________\n",
      "None\n"
     ]
    }
   ],
   "source": [
    "model = Sequential()\n",
    "model.add(Input(shape=(maxlen,)))\n",
    "model.add(Embedding(embed_matrix.shape[0], 300, weights = [embed_matrix], trainable=True))\n",
    "# Bi-Direction LSTM is applied\n",
    "model.add(Bidirectional(LSTM(512, return_sequences = True)))\n",
    "model.add(Dropout(0.2))\n",
    "model.add(Dense(100,activation='relu'))\n",
    "model.add(Flatten())\n",
    "model.add(Dense(2, activation='softmax'))\n",
    "model.compile(loss = 'sparse_categorical_crossentropy', optimizer='adam',metrics = ['accuracy'])\n",
    "print(model.summary())"
   ]
  },
  {
   "cell_type": "markdown",
   "metadata": {
    "id": "thH0YIiOzImO"
   },
   "source": [
    "## **10. Fit the model and check the validation accuracy**"
   ]
  },
  {
   "cell_type": "code",
   "execution_count": 203,
   "metadata": {
    "colab": {
     "base_uri": "https://localhost:8080/"
    },
    "executionInfo": {
     "elapsed": 6398785,
     "status": "ok",
     "timestamp": 1668280576549,
     "user": {
      "displayName": "Naveen Kumar",
      "userId": "15460283466251187880"
     },
     "user_tz": -330
    },
    "id": "3BOdmpfiuIk4",
    "outputId": "d1822b4b-83a9-47e5-de53-8cbaacfa513d"
   },
   "outputs": [
    {
     "name": "stdout",
     "output_type": "stream",
     "text": [
      "Epoch 1/5\n",
      "184/184 [==============================] - 1271s 7s/step - loss: 0.4934 - accuracy: 0.7592 - val_loss: 0.4347 - val_accuracy: 0.7980\n",
      "Epoch 2/5\n",
      "184/184 [==============================] - 1281s 7s/step - loss: 0.3241 - accuracy: 0.8580 - val_loss: 0.4113 - val_accuracy: 0.8209\n",
      "Epoch 3/5\n",
      "184/184 [==============================] - 1252s 7s/step - loss: 0.1970 - accuracy: 0.9189 - val_loss: 0.4582 - val_accuracy: 0.8286\n",
      "Epoch 4/5\n",
      "184/184 [==============================] - 1295s 7s/step - loss: 0.1106 - accuracy: 0.9570 - val_loss: 0.5838 - val_accuracy: 0.8225\n",
      "Epoch 5/5\n",
      "184/184 [==============================] - 1300s 7s/step - loss: 0.0533 - accuracy: 0.9805 - val_loss: 0.8425 - val_accuracy: 0.8192\n",
      "CPU times: user 3h 11min 6s, sys: 5min 2s, total: 3h 16min 8s\n",
      "Wall time: 1h 46min 38s\n"
     ]
    },
    {
     "data": {
      "text/plain": [
       "<keras.callbacks.History at 0x7f75e95823d0>"
      ]
     },
     "execution_count": 203,
     "metadata": {},
     "output_type": "execute_result"
    }
   ],
   "source": [
    "%%time\n",
    "\n",
    "model.fit(X_train,y_train,batch_size=100, epochs=5, verbose=1, validation_split = 0.2)"
   ]
  },
  {
   "cell_type": "code",
   "execution_count": 204,
   "metadata": {
    "colab": {
     "base_uri": "https://localhost:8080/"
    },
    "executionInfo": {
     "elapsed": 696664,
     "status": "ok",
     "timestamp": 1668281273194,
     "user": {
      "displayName": "Naveen Kumar",
      "userId": "15460283466251187880"
     },
     "user_tz": -330
    },
    "id": "sCQiwPluzGv1",
    "outputId": "c78f8517-3b24-4675-ae6e-201fd2b4d67b"
   },
   "outputs": [
    {
     "name": "stdout",
     "output_type": "stream",
     "text": [
      "716/716 [==============================] - 522s 728ms/step - loss: 0.1897 - accuracy: 0.9572\n",
      "Training Loss: 0.1897 and Accuracy: 95.72%\n",
      "179/179 [==============================] - 135s 752ms/step - loss: 0.8400 - accuracy: 0.8103\n",
      "Test Loss: 0.8400 and Accuracy: 81.03%\n"
     ]
    }
   ],
   "source": [
    "train_loss, train_acc = model.evaluate(X_train, y_train)\n",
    "print('Training Loss: %.4f and Accuracy: %.2f%%' % (train_loss, train_acc * 100))\n",
    "\n",
    "test_loss, test_acc = model.evaluate(X_test, y_test)\n",
    "print('Test Loss: %.4f and Accuracy: %.2f%%' % (test_loss, test_acc * 100))"
   ]
  },
  {
   "cell_type": "markdown",
   "metadata": {},
   "source": []
  },
  {
   "cell_type": "code",
   "execution_count": null,
   "metadata": {},
   "outputs": [],
   "source": []
  }
 ],
 "metadata": {
  "colab": {
   "authorship_tag": "ABX9TyMcsOo0Pra0kU4kGgL/ZBml",
   "collapsed_sections": [],
   "provenance": []
  },
  "kernelspec": {
   "display_name": "Python 3 (ipykernel)",
   "language": "python",
   "name": "python3"
  },
  "language_info": {
   "codemirror_mode": {
    "name": "ipython",
    "version": 3
   },
   "file_extension": ".py",
   "mimetype": "text/x-python",
   "name": "python",
   "nbconvert_exporter": "python",
   "pygments_lexer": "ipython3",
   "version": "3.9.7"
  }
 },
 "nbformat": 4,
 "nbformat_minor": 1
}
